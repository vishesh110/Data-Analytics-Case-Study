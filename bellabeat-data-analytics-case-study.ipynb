{
 "cells": [
  {
   "cell_type": "markdown",
   "id": "9ec56129",
   "metadata": {
    "_execution_state": "idle",
    "_uuid": "051d70d956493feee0c6d64651c6a088724dca2a",
    "papermill": {
     "duration": 0.012348,
     "end_time": "2023-07-28T10:52:57.756156",
     "exception": false,
     "start_time": "2023-07-28T10:52:57.743808",
     "status": "completed"
    },
    "tags": []
   },
   "source": [
    "# **Bellabeat - Data Analytics Case Study**\n",
    "\n",
    "\n",
    "Author: Vishesh Saini\\\n",
    "Date: 28 July 2023\n",
    "\n",
    "# *Ask Phase*\n",
    "\n",
    "## **Scenario**\n",
    "\n",
    "Bellabeat is a successful high-tech manufacturer of health-focused products for women, but they have the potential to become a larger player in the global smart device market. Urška Sršen, cofounder and Chief Creative Officer of Bellabeat, believes that analyzing smart device fitness data could help unlock new growth opportunities for the company. Therefore, my marketing analyst team needs to focus on one of Bellabeats’s products and analyze and undertand smart device data to gain insight into how consumers are using their smart devices. From these insights discovered, my team will then help guide marketing strategy for the company. My team will present our analysis to the Bellabeat executive team along with our high-level recommendations for Bellabeat’s marketing strategy.\n",
    "\n",
    "By 2016, Bellabeat had opened offices around the world and launched multiple products. Bellabeat products became\n",
    "available through a growing number of online retailers in addition to their own e-commerce channel on their website. The\n",
    "company has invested in traditional advertising media, such as radio, out-of-home billboards, print, and television, but focuses on digital marketing extensively. Bellabeat invests year-round in Google Search, maintaining active Facebook and Instagram pages, and consistently engages consumers on Twitter. Additionally, Bellabeat runs video ads on Youtube and display ads on the Google Display Network to support campaigns around key marketing dates.\n",
    "\n",
    "Sršen knows that an analysis of Bellabeat’s available consumer data would reveal more opportunities for growth. She\n",
    "has asked the marketing analytics team to focus on a Bellabeat product and analyze smart device usage data in order to\n",
    "gain insight into how people are already using their smart devices. Then, using this information, she would like high-level\n",
    "recommendations for how these trends can inform Bellabeat marketing strategy.\n",
    "\n",
    "**Problem:** Bellabeat needs to expand and grow as a global health-focused smart product company.\\\n",
    "**Solution:** Understand how clients are using their Bellabeat smart devices and uncover health trends.\n",
    "\n",
    "### **Business Task/Purpose:**\n",
    "\n",
    "**Analyze smart device usage data to identify trends and insights related to Bellabeat products in order to help inform and shape Bellabeat's marketing strategy.**\n",
    "\n",
    "Stakeholders: Executive team members Urška Sršen and Sando Mur, and the Bellabeat marketing analytics team.\n",
    "\n",
    "# *Prepare Phase*\n",
    "\n",
    "### **Data Sources:**\n",
    "\n",
    "Data Source: FitBit Fitness Tracker Data from Mobius: https://www.kaggle.com/arashnic/fitbit, generated from a distributed survey via Amazon Mechanical Turk.\n",
    "The dataset has 18 CSV files that contains recorded data from 30 participants, covering data from 04-11-2016 through 05-12-2016.\n",
    "\n",
    "This is data that comes from the FitBit Fitness Tracker Data that was generated from a distributed survey via Amazon Mechanical Turk, so it’s objective, unbiased and credible. The data sources are also comprehensive, accurate and relevant to solve our business problem because they include all the factors that we need to analyzed smart device usage.\n",
    "\n",
    "To evaluate the data’s credibility and integrity in detail, we can assess the most important data aspects:\n",
    "- Reliability: The data is reliable because it’s from 30 FitBit users who consented to the submission of personal tracker data and generated from a distributed survey via Amazon Mechanical Turk.\n",
    "- Original: The data is original because they’re real Fitbit users who consented to the submission of personal tracker data via Amazon Mechanical Turk.\n",
    "- Comprehensive: The data is comprehensive for the most part because it has many factors like physical activity, sleep and calories recorded by date and time. However, the data contains a sample that only covers one month so it’s limited in this regard.\n",
    "- Current: The data is not current because it’s from March 2016 to May 2016.\n",
    "- Cited: The data is cited because we know it’s from the FitBit Fitness Tracker Data that was generated from a distributed survey via Amazon Mechanical Turk.\n",
    "\n",
    "It’s important to address the data-privacy issues present and we can use it because the 30 FitBit users have consented to the submission of personal tracker data via Amazon Mechanical Turk.\\\n",
    "These spreadsheets are organized in a wide format, where each row represents one specific record and the columns contain different attributes of the record, which include the minute-level output for physical activity, heart rate, steps taken and sleep monitoring, among others.\n"
   ]
  },
  {
   "cell_type": "markdown",
   "id": "da38212a",
   "metadata": {
    "papermill": {
     "duration": 0.010454,
     "end_time": "2023-07-28T10:52:57.778210",
     "exception": false,
     "start_time": "2023-07-28T10:52:57.767756",
     "status": "completed"
    },
    "tags": []
   },
   "source": [
    "### Installing packages needed for the analysis\n",
    "Intalling the R packages and loading the libraries needed for our analysis."
   ]
  },
  {
   "cell_type": "code",
   "execution_count": 1,
   "id": "4e23bf37",
   "metadata": {
    "execution": {
     "iopub.execute_input": "2023-07-28T10:52:57.806480Z",
     "iopub.status.busy": "2023-07-28T10:52:57.803523Z",
     "iopub.status.idle": "2023-07-28T10:52:59.272112Z",
     "shell.execute_reply": "2023-07-28T10:52:59.269781Z"
    },
    "papermill": {
     "duration": 1.487048,
     "end_time": "2023-07-28T10:52:59.275744",
     "exception": false,
     "start_time": "2023-07-28T10:52:57.788696",
     "status": "completed"
    },
    "tags": []
   },
   "outputs": [
    {
     "name": "stderr",
     "output_type": "stream",
     "text": [
      "── \u001b[1mAttaching core tidyverse packages\u001b[22m ──────────────────────── tidyverse 2.0.0 ──\n",
      "\u001b[32m✔\u001b[39m \u001b[34mdplyr    \u001b[39m 1.1.2     \u001b[32m✔\u001b[39m \u001b[34mreadr    \u001b[39m 2.1.4\n",
      "\u001b[32m✔\u001b[39m \u001b[34mforcats  \u001b[39m 1.0.0     \u001b[32m✔\u001b[39m \u001b[34mstringr  \u001b[39m 1.5.0\n",
      "\u001b[32m✔\u001b[39m \u001b[34mggplot2  \u001b[39m 3.4.2     \u001b[32m✔\u001b[39m \u001b[34mtibble   \u001b[39m 3.2.1\n",
      "\u001b[32m✔\u001b[39m \u001b[34mlubridate\u001b[39m 1.9.2     \u001b[32m✔\u001b[39m \u001b[34mtidyr    \u001b[39m 1.3.0\n",
      "\u001b[32m✔\u001b[39m \u001b[34mpurrr    \u001b[39m 1.0.1     \n",
      "── \u001b[1mConflicts\u001b[22m ────────────────────────────────────────── tidyverse_conflicts() ──\n",
      "\u001b[31m✖\u001b[39m \u001b[34mdplyr\u001b[39m::\u001b[32mfilter()\u001b[39m masks \u001b[34mstats\u001b[39m::filter()\n",
      "\u001b[31m✖\u001b[39m \u001b[34mdplyr\u001b[39m::\u001b[32mlag()\u001b[39m    masks \u001b[34mstats\u001b[39m::lag()\n",
      "\u001b[36mℹ\u001b[39m Use the conflicted package (\u001b[3m\u001b[34m<http://conflicted.r-lib.org/>\u001b[39m\u001b[23m) to force all conflicts to become errors\n",
      "\n",
      "Attaching package: ‘janitor’\n",
      "\n",
      "\n",
      "The following objects are masked from ‘package:stats’:\n",
      "\n",
      "    chisq.test, fisher.test\n",
      "\n",
      "\n"
     ]
    }
   ],
   "source": [
    "#Loading our packages\n",
    "library(tidyverse)\n",
    "library(janitor)\n",
    "library(lubridate)\n",
    "library(skimr)\n",
    "library(ggplot2)\n",
    "library(dplyr)\n",
    "library(tidyr)\n"
   ]
  },
  {
   "cell_type": "markdown",
   "id": "b636aeb7",
   "metadata": {
    "papermill": {
     "duration": 0.010754,
     "end_time": "2023-07-28T10:52:59.297598",
     "exception": false,
     "start_time": "2023-07-28T10:52:59.286844",
     "status": "completed"
    },
    "tags": []
   },
   "source": [
    "### Loading the files\n",
    "Creating our Data Frames into R using the csv files:"
   ]
  },
  {
   "cell_type": "code",
   "execution_count": 2,
   "id": "0efaf42e",
   "metadata": {
    "execution": {
     "iopub.execute_input": "2023-07-28T10:52:59.369909Z",
     "iopub.status.busy": "2023-07-28T10:52:59.322178Z",
     "iopub.status.idle": "2023-07-28T10:53:07.392646Z",
     "shell.execute_reply": "2023-07-28T10:53:07.389439Z"
    },
    "papermill": {
     "duration": 8.087079,
     "end_time": "2023-07-28T10:53:07.396146",
     "exception": false,
     "start_time": "2023-07-28T10:52:59.309067",
     "status": "completed"
    },
    "tags": []
   },
   "outputs": [],
   "source": [
    "#Importing our data from CSV files into data frames\n",
    "daily_activity <- read.csv(\"/kaggle/input/csv-files/dailyActivity_merged.csv\")\n",
    "daily_sleep <- read.csv(\"/kaggle/input/csv-files/sleepDay_merged.csv\")\n",
    "heartrate_seconds <- read.csv(\"/kaggle/input/csv-files/heartrate_seconds_merged.csv\")\n",
    "weight_info <- read.csv(\"/kaggle/input/csv-files/weightLogInfo_merged.csv\")"
   ]
  },
  {
   "cell_type": "markdown",
   "id": "9ff809f5",
   "metadata": {
    "papermill": {
     "duration": 0.010898,
     "end_time": "2023-07-28T10:53:07.417968",
     "exception": false,
     "start_time": "2023-07-28T10:53:07.407070",
     "status": "completed"
    },
    "tags": []
   },
   "source": [
    "### Inspecting our data"
   ]
  },
  {
   "cell_type": "code",
   "execution_count": 3,
   "id": "0ffc6743",
   "metadata": {
    "execution": {
     "iopub.execute_input": "2023-07-28T10:53:07.443503Z",
     "iopub.status.busy": "2023-07-28T10:53:07.441798Z",
     "iopub.status.idle": "2023-07-28T10:53:07.598947Z",
     "shell.execute_reply": "2023-07-28T10:53:07.596694Z"
    },
    "papermill": {
     "duration": 0.172742,
     "end_time": "2023-07-28T10:53:07.601668",
     "exception": false,
     "start_time": "2023-07-28T10:53:07.428926",
     "status": "completed"
    },
    "tags": []
   },
   "outputs": [
    {
     "data": {
      "text/html": [
       "<table class=\"dataframe\">\n",
       "<caption>A data.frame: 6 × 15</caption>\n",
       "<thead>\n",
       "\t<tr><th></th><th scope=col>Id</th><th scope=col>ActivityDate</th><th scope=col>TotalSteps</th><th scope=col>TotalDistance</th><th scope=col>TrackerDistance</th><th scope=col>LoggedActivitiesDistance</th><th scope=col>VeryActiveDistance</th><th scope=col>ModeratelyActiveDistance</th><th scope=col>LightActiveDistance</th><th scope=col>SedentaryActiveDistance</th><th scope=col>VeryActiveMinutes</th><th scope=col>FairlyActiveMinutes</th><th scope=col>LightlyActiveMinutes</th><th scope=col>SedentaryMinutes</th><th scope=col>Calories</th></tr>\n",
       "\t<tr><th></th><th scope=col>&lt;dbl&gt;</th><th scope=col>&lt;chr&gt;</th><th scope=col>&lt;int&gt;</th><th scope=col>&lt;dbl&gt;</th><th scope=col>&lt;dbl&gt;</th><th scope=col>&lt;dbl&gt;</th><th scope=col>&lt;dbl&gt;</th><th scope=col>&lt;dbl&gt;</th><th scope=col>&lt;dbl&gt;</th><th scope=col>&lt;dbl&gt;</th><th scope=col>&lt;int&gt;</th><th scope=col>&lt;int&gt;</th><th scope=col>&lt;int&gt;</th><th scope=col>&lt;int&gt;</th><th scope=col>&lt;int&gt;</th></tr>\n",
       "</thead>\n",
       "<tbody>\n",
       "\t<tr><th scope=row>1</th><td>1503960366</td><td>4/12/2016</td><td>13162</td><td>8.50</td><td>8.50</td><td>0</td><td>1.88</td><td>0.55</td><td>6.06</td><td>0</td><td>25</td><td>13</td><td>328</td><td> 728</td><td>1985</td></tr>\n",
       "\t<tr><th scope=row>2</th><td>1503960366</td><td>4/13/2016</td><td>10735</td><td>6.97</td><td>6.97</td><td>0</td><td>1.57</td><td>0.69</td><td>4.71</td><td>0</td><td>21</td><td>19</td><td>217</td><td> 776</td><td>1797</td></tr>\n",
       "\t<tr><th scope=row>3</th><td>1503960366</td><td>4/14/2016</td><td>10460</td><td>6.74</td><td>6.74</td><td>0</td><td>2.44</td><td>0.40</td><td>3.91</td><td>0</td><td>30</td><td>11</td><td>181</td><td>1218</td><td>1776</td></tr>\n",
       "\t<tr><th scope=row>4</th><td>1503960366</td><td>4/15/2016</td><td> 9762</td><td>6.28</td><td>6.28</td><td>0</td><td>2.14</td><td>1.26</td><td>2.83</td><td>0</td><td>29</td><td>34</td><td>209</td><td> 726</td><td>1745</td></tr>\n",
       "\t<tr><th scope=row>5</th><td>1503960366</td><td>4/16/2016</td><td>12669</td><td>8.16</td><td>8.16</td><td>0</td><td>2.71</td><td>0.41</td><td>5.04</td><td>0</td><td>36</td><td>10</td><td>221</td><td> 773</td><td>1863</td></tr>\n",
       "\t<tr><th scope=row>6</th><td>1503960366</td><td>4/17/2016</td><td> 9705</td><td>6.48</td><td>6.48</td><td>0</td><td>3.19</td><td>0.78</td><td>2.51</td><td>0</td><td>38</td><td>20</td><td>164</td><td> 539</td><td>1728</td></tr>\n",
       "</tbody>\n",
       "</table>\n"
      ],
      "text/latex": [
       "A data.frame: 6 × 15\n",
       "\\begin{tabular}{r|lllllllllllllll}\n",
       "  & Id & ActivityDate & TotalSteps & TotalDistance & TrackerDistance & LoggedActivitiesDistance & VeryActiveDistance & ModeratelyActiveDistance & LightActiveDistance & SedentaryActiveDistance & VeryActiveMinutes & FairlyActiveMinutes & LightlyActiveMinutes & SedentaryMinutes & Calories\\\\\n",
       "  & <dbl> & <chr> & <int> & <dbl> & <dbl> & <dbl> & <dbl> & <dbl> & <dbl> & <dbl> & <int> & <int> & <int> & <int> & <int>\\\\\n",
       "\\hline\n",
       "\t1 & 1503960366 & 4/12/2016 & 13162 & 8.50 & 8.50 & 0 & 1.88 & 0.55 & 6.06 & 0 & 25 & 13 & 328 &  728 & 1985\\\\\n",
       "\t2 & 1503960366 & 4/13/2016 & 10735 & 6.97 & 6.97 & 0 & 1.57 & 0.69 & 4.71 & 0 & 21 & 19 & 217 &  776 & 1797\\\\\n",
       "\t3 & 1503960366 & 4/14/2016 & 10460 & 6.74 & 6.74 & 0 & 2.44 & 0.40 & 3.91 & 0 & 30 & 11 & 181 & 1218 & 1776\\\\\n",
       "\t4 & 1503960366 & 4/15/2016 &  9762 & 6.28 & 6.28 & 0 & 2.14 & 1.26 & 2.83 & 0 & 29 & 34 & 209 &  726 & 1745\\\\\n",
       "\t5 & 1503960366 & 4/16/2016 & 12669 & 8.16 & 8.16 & 0 & 2.71 & 0.41 & 5.04 & 0 & 36 & 10 & 221 &  773 & 1863\\\\\n",
       "\t6 & 1503960366 & 4/17/2016 &  9705 & 6.48 & 6.48 & 0 & 3.19 & 0.78 & 2.51 & 0 & 38 & 20 & 164 &  539 & 1728\\\\\n",
       "\\end{tabular}\n"
      ],
      "text/markdown": [
       "\n",
       "A data.frame: 6 × 15\n",
       "\n",
       "| <!--/--> | Id &lt;dbl&gt; | ActivityDate &lt;chr&gt; | TotalSteps &lt;int&gt; | TotalDistance &lt;dbl&gt; | TrackerDistance &lt;dbl&gt; | LoggedActivitiesDistance &lt;dbl&gt; | VeryActiveDistance &lt;dbl&gt; | ModeratelyActiveDistance &lt;dbl&gt; | LightActiveDistance &lt;dbl&gt; | SedentaryActiveDistance &lt;dbl&gt; | VeryActiveMinutes &lt;int&gt; | FairlyActiveMinutes &lt;int&gt; | LightlyActiveMinutes &lt;int&gt; | SedentaryMinutes &lt;int&gt; | Calories &lt;int&gt; |\n",
       "|---|---|---|---|---|---|---|---|---|---|---|---|---|---|---|---|\n",
       "| 1 | 1503960366 | 4/12/2016 | 13162 | 8.50 | 8.50 | 0 | 1.88 | 0.55 | 6.06 | 0 | 25 | 13 | 328 |  728 | 1985 |\n",
       "| 2 | 1503960366 | 4/13/2016 | 10735 | 6.97 | 6.97 | 0 | 1.57 | 0.69 | 4.71 | 0 | 21 | 19 | 217 |  776 | 1797 |\n",
       "| 3 | 1503960366 | 4/14/2016 | 10460 | 6.74 | 6.74 | 0 | 2.44 | 0.40 | 3.91 | 0 | 30 | 11 | 181 | 1218 | 1776 |\n",
       "| 4 | 1503960366 | 4/15/2016 |  9762 | 6.28 | 6.28 | 0 | 2.14 | 1.26 | 2.83 | 0 | 29 | 34 | 209 |  726 | 1745 |\n",
       "| 5 | 1503960366 | 4/16/2016 | 12669 | 8.16 | 8.16 | 0 | 2.71 | 0.41 | 5.04 | 0 | 36 | 10 | 221 |  773 | 1863 |\n",
       "| 6 | 1503960366 | 4/17/2016 |  9705 | 6.48 | 6.48 | 0 | 3.19 | 0.78 | 2.51 | 0 | 38 | 20 | 164 |  539 | 1728 |\n",
       "\n"
      ],
      "text/plain": [
       "  Id         ActivityDate TotalSteps TotalDistance TrackerDistance\n",
       "1 1503960366 4/12/2016    13162      8.50          8.50           \n",
       "2 1503960366 4/13/2016    10735      6.97          6.97           \n",
       "3 1503960366 4/14/2016    10460      6.74          6.74           \n",
       "4 1503960366 4/15/2016     9762      6.28          6.28           \n",
       "5 1503960366 4/16/2016    12669      8.16          8.16           \n",
       "6 1503960366 4/17/2016     9705      6.48          6.48           \n",
       "  LoggedActivitiesDistance VeryActiveDistance ModeratelyActiveDistance\n",
       "1 0                        1.88               0.55                    \n",
       "2 0                        1.57               0.69                    \n",
       "3 0                        2.44               0.40                    \n",
       "4 0                        2.14               1.26                    \n",
       "5 0                        2.71               0.41                    \n",
       "6 0                        3.19               0.78                    \n",
       "  LightActiveDistance SedentaryActiveDistance VeryActiveMinutes\n",
       "1 6.06                0                       25               \n",
       "2 4.71                0                       21               \n",
       "3 3.91                0                       30               \n",
       "4 2.83                0                       29               \n",
       "5 5.04                0                       36               \n",
       "6 2.51                0                       38               \n",
       "  FairlyActiveMinutes LightlyActiveMinutes SedentaryMinutes Calories\n",
       "1 13                  328                   728             1985    \n",
       "2 19                  217                   776             1797    \n",
       "3 11                  181                  1218             1776    \n",
       "4 34                  209                   726             1745    \n",
       "5 10                  221                   773             1863    \n",
       "6 20                  164                   539             1728    "
      ]
     },
     "metadata": {},
     "output_type": "display_data"
    },
    {
     "data": {
      "text/html": [
       "<table class=\"dataframe\">\n",
       "<caption>A data.frame: 6 × 5</caption>\n",
       "<thead>\n",
       "\t<tr><th></th><th scope=col>Id</th><th scope=col>SleepDay</th><th scope=col>TotalSleepRecords</th><th scope=col>TotalMinutesAsleep</th><th scope=col>TotalTimeInBed</th></tr>\n",
       "\t<tr><th></th><th scope=col>&lt;dbl&gt;</th><th scope=col>&lt;chr&gt;</th><th scope=col>&lt;int&gt;</th><th scope=col>&lt;int&gt;</th><th scope=col>&lt;int&gt;</th></tr>\n",
       "</thead>\n",
       "<tbody>\n",
       "\t<tr><th scope=row>1</th><td>1503960366</td><td>4/12/2016 12:00:00 AM</td><td>1</td><td>327</td><td>346</td></tr>\n",
       "\t<tr><th scope=row>2</th><td>1503960366</td><td>4/13/2016 12:00:00 AM</td><td>2</td><td>384</td><td>407</td></tr>\n",
       "\t<tr><th scope=row>3</th><td>1503960366</td><td>4/15/2016 12:00:00 AM</td><td>1</td><td>412</td><td>442</td></tr>\n",
       "\t<tr><th scope=row>4</th><td>1503960366</td><td>4/16/2016 12:00:00 AM</td><td>2</td><td>340</td><td>367</td></tr>\n",
       "\t<tr><th scope=row>5</th><td>1503960366</td><td>4/17/2016 12:00:00 AM</td><td>1</td><td>700</td><td>712</td></tr>\n",
       "\t<tr><th scope=row>6</th><td>1503960366</td><td>4/19/2016 12:00:00 AM</td><td>1</td><td>304</td><td>320</td></tr>\n",
       "</tbody>\n",
       "</table>\n"
      ],
      "text/latex": [
       "A data.frame: 6 × 5\n",
       "\\begin{tabular}{r|lllll}\n",
       "  & Id & SleepDay & TotalSleepRecords & TotalMinutesAsleep & TotalTimeInBed\\\\\n",
       "  & <dbl> & <chr> & <int> & <int> & <int>\\\\\n",
       "\\hline\n",
       "\t1 & 1503960366 & 4/12/2016 12:00:00 AM & 1 & 327 & 346\\\\\n",
       "\t2 & 1503960366 & 4/13/2016 12:00:00 AM & 2 & 384 & 407\\\\\n",
       "\t3 & 1503960366 & 4/15/2016 12:00:00 AM & 1 & 412 & 442\\\\\n",
       "\t4 & 1503960366 & 4/16/2016 12:00:00 AM & 2 & 340 & 367\\\\\n",
       "\t5 & 1503960366 & 4/17/2016 12:00:00 AM & 1 & 700 & 712\\\\\n",
       "\t6 & 1503960366 & 4/19/2016 12:00:00 AM & 1 & 304 & 320\\\\\n",
       "\\end{tabular}\n"
      ],
      "text/markdown": [
       "\n",
       "A data.frame: 6 × 5\n",
       "\n",
       "| <!--/--> | Id &lt;dbl&gt; | SleepDay &lt;chr&gt; | TotalSleepRecords &lt;int&gt; | TotalMinutesAsleep &lt;int&gt; | TotalTimeInBed &lt;int&gt; |\n",
       "|---|---|---|---|---|---|\n",
       "| 1 | 1503960366 | 4/12/2016 12:00:00 AM | 1 | 327 | 346 |\n",
       "| 2 | 1503960366 | 4/13/2016 12:00:00 AM | 2 | 384 | 407 |\n",
       "| 3 | 1503960366 | 4/15/2016 12:00:00 AM | 1 | 412 | 442 |\n",
       "| 4 | 1503960366 | 4/16/2016 12:00:00 AM | 2 | 340 | 367 |\n",
       "| 5 | 1503960366 | 4/17/2016 12:00:00 AM | 1 | 700 | 712 |\n",
       "| 6 | 1503960366 | 4/19/2016 12:00:00 AM | 1 | 304 | 320 |\n",
       "\n"
      ],
      "text/plain": [
       "  Id         SleepDay              TotalSleepRecords TotalMinutesAsleep\n",
       "1 1503960366 4/12/2016 12:00:00 AM 1                 327               \n",
       "2 1503960366 4/13/2016 12:00:00 AM 2                 384               \n",
       "3 1503960366 4/15/2016 12:00:00 AM 1                 412               \n",
       "4 1503960366 4/16/2016 12:00:00 AM 2                 340               \n",
       "5 1503960366 4/17/2016 12:00:00 AM 1                 700               \n",
       "6 1503960366 4/19/2016 12:00:00 AM 1                 304               \n",
       "  TotalTimeInBed\n",
       "1 346           \n",
       "2 407           \n",
       "3 442           \n",
       "4 367           \n",
       "5 712           \n",
       "6 320           "
      ]
     },
     "metadata": {},
     "output_type": "display_data"
    },
    {
     "data": {
      "text/html": [
       "<table class=\"dataframe\">\n",
       "<caption>A data.frame: 6 × 8</caption>\n",
       "<thead>\n",
       "\t<tr><th></th><th scope=col>Id</th><th scope=col>Date</th><th scope=col>WeightKg</th><th scope=col>WeightPounds</th><th scope=col>Fat</th><th scope=col>BMI</th><th scope=col>IsManualReport</th><th scope=col>LogId</th></tr>\n",
       "\t<tr><th></th><th scope=col>&lt;dbl&gt;</th><th scope=col>&lt;chr&gt;</th><th scope=col>&lt;dbl&gt;</th><th scope=col>&lt;dbl&gt;</th><th scope=col>&lt;int&gt;</th><th scope=col>&lt;dbl&gt;</th><th scope=col>&lt;chr&gt;</th><th scope=col>&lt;dbl&gt;</th></tr>\n",
       "</thead>\n",
       "<tbody>\n",
       "\t<tr><th scope=row>1</th><td>1503960366</td><td>5/2/2016 11:59:59 PM </td><td> 52.6</td><td>115.9631</td><td>22</td><td>22.65</td><td>True </td><td>1.462234e+12</td></tr>\n",
       "\t<tr><th scope=row>2</th><td>1503960366</td><td>5/3/2016 11:59:59 PM </td><td> 52.6</td><td>115.9631</td><td>NA</td><td>22.65</td><td>True </td><td>1.462320e+12</td></tr>\n",
       "\t<tr><th scope=row>3</th><td>1927972279</td><td>4/13/2016 1:08:52 AM </td><td>133.5</td><td>294.3171</td><td>NA</td><td>47.54</td><td>False</td><td>1.460510e+12</td></tr>\n",
       "\t<tr><th scope=row>4</th><td>2873212765</td><td>4/21/2016 11:59:59 PM</td><td> 56.7</td><td>125.0021</td><td>NA</td><td>21.45</td><td>True </td><td>1.461283e+12</td></tr>\n",
       "\t<tr><th scope=row>5</th><td>2873212765</td><td>5/12/2016 11:59:59 PM</td><td> 57.3</td><td>126.3249</td><td>NA</td><td>21.69</td><td>True </td><td>1.463098e+12</td></tr>\n",
       "\t<tr><th scope=row>6</th><td>4319703577</td><td>4/17/2016 11:59:59 PM</td><td> 72.4</td><td>159.6147</td><td>25</td><td>27.45</td><td>True </td><td>1.460938e+12</td></tr>\n",
       "</tbody>\n",
       "</table>\n"
      ],
      "text/latex": [
       "A data.frame: 6 × 8\n",
       "\\begin{tabular}{r|llllllll}\n",
       "  & Id & Date & WeightKg & WeightPounds & Fat & BMI & IsManualReport & LogId\\\\\n",
       "  & <dbl> & <chr> & <dbl> & <dbl> & <int> & <dbl> & <chr> & <dbl>\\\\\n",
       "\\hline\n",
       "\t1 & 1503960366 & 5/2/2016 11:59:59 PM  &  52.6 & 115.9631 & 22 & 22.65 & True  & 1.462234e+12\\\\\n",
       "\t2 & 1503960366 & 5/3/2016 11:59:59 PM  &  52.6 & 115.9631 & NA & 22.65 & True  & 1.462320e+12\\\\\n",
       "\t3 & 1927972279 & 4/13/2016 1:08:52 AM  & 133.5 & 294.3171 & NA & 47.54 & False & 1.460510e+12\\\\\n",
       "\t4 & 2873212765 & 4/21/2016 11:59:59 PM &  56.7 & 125.0021 & NA & 21.45 & True  & 1.461283e+12\\\\\n",
       "\t5 & 2873212765 & 5/12/2016 11:59:59 PM &  57.3 & 126.3249 & NA & 21.69 & True  & 1.463098e+12\\\\\n",
       "\t6 & 4319703577 & 4/17/2016 11:59:59 PM &  72.4 & 159.6147 & 25 & 27.45 & True  & 1.460938e+12\\\\\n",
       "\\end{tabular}\n"
      ],
      "text/markdown": [
       "\n",
       "A data.frame: 6 × 8\n",
       "\n",
       "| <!--/--> | Id &lt;dbl&gt; | Date &lt;chr&gt; | WeightKg &lt;dbl&gt; | WeightPounds &lt;dbl&gt; | Fat &lt;int&gt; | BMI &lt;dbl&gt; | IsManualReport &lt;chr&gt; | LogId &lt;dbl&gt; |\n",
       "|---|---|---|---|---|---|---|---|---|\n",
       "| 1 | 1503960366 | 5/2/2016 11:59:59 PM  |  52.6 | 115.9631 | 22 | 22.65 | True  | 1.462234e+12 |\n",
       "| 2 | 1503960366 | 5/3/2016 11:59:59 PM  |  52.6 | 115.9631 | NA | 22.65 | True  | 1.462320e+12 |\n",
       "| 3 | 1927972279 | 4/13/2016 1:08:52 AM  | 133.5 | 294.3171 | NA | 47.54 | False | 1.460510e+12 |\n",
       "| 4 | 2873212765 | 4/21/2016 11:59:59 PM |  56.7 | 125.0021 | NA | 21.45 | True  | 1.461283e+12 |\n",
       "| 5 | 2873212765 | 5/12/2016 11:59:59 PM |  57.3 | 126.3249 | NA | 21.69 | True  | 1.463098e+12 |\n",
       "| 6 | 4319703577 | 4/17/2016 11:59:59 PM |  72.4 | 159.6147 | 25 | 27.45 | True  | 1.460938e+12 |\n",
       "\n"
      ],
      "text/plain": [
       "  Id         Date                  WeightKg WeightPounds Fat BMI  \n",
       "1 1503960366 5/2/2016 11:59:59 PM   52.6    115.9631     22  22.65\n",
       "2 1503960366 5/3/2016 11:59:59 PM   52.6    115.9631     NA  22.65\n",
       "3 1927972279 4/13/2016 1:08:52 AM  133.5    294.3171     NA  47.54\n",
       "4 2873212765 4/21/2016 11:59:59 PM  56.7    125.0021     NA  21.45\n",
       "5 2873212765 5/12/2016 11:59:59 PM  57.3    126.3249     NA  21.69\n",
       "6 4319703577 4/17/2016 11:59:59 PM  72.4    159.6147     25  27.45\n",
       "  IsManualReport LogId       \n",
       "1 True           1.462234e+12\n",
       "2 True           1.462320e+12\n",
       "3 False          1.460510e+12\n",
       "4 True           1.461283e+12\n",
       "5 True           1.463098e+12\n",
       "6 True           1.460938e+12"
      ]
     },
     "metadata": {},
     "output_type": "display_data"
    },
    {
     "data": {
      "text/html": [
       "<table class=\"dataframe\">\n",
       "<caption>A data.frame: 6 × 3</caption>\n",
       "<thead>\n",
       "\t<tr><th></th><th scope=col>Id</th><th scope=col>Time</th><th scope=col>Value</th></tr>\n",
       "\t<tr><th></th><th scope=col>&lt;dbl&gt;</th><th scope=col>&lt;chr&gt;</th><th scope=col>&lt;int&gt;</th></tr>\n",
       "</thead>\n",
       "<tbody>\n",
       "\t<tr><th scope=row>1</th><td>2022484408</td><td>4/12/2016 7:21:00 AM</td><td> 97</td></tr>\n",
       "\t<tr><th scope=row>2</th><td>2022484408</td><td>4/12/2016 7:21:05 AM</td><td>102</td></tr>\n",
       "\t<tr><th scope=row>3</th><td>2022484408</td><td>4/12/2016 7:21:10 AM</td><td>105</td></tr>\n",
       "\t<tr><th scope=row>4</th><td>2022484408</td><td>4/12/2016 7:21:20 AM</td><td>103</td></tr>\n",
       "\t<tr><th scope=row>5</th><td>2022484408</td><td>4/12/2016 7:21:25 AM</td><td>101</td></tr>\n",
       "\t<tr><th scope=row>6</th><td>2022484408</td><td>4/12/2016 7:22:05 AM</td><td> 95</td></tr>\n",
       "</tbody>\n",
       "</table>\n"
      ],
      "text/latex": [
       "A data.frame: 6 × 3\n",
       "\\begin{tabular}{r|lll}\n",
       "  & Id & Time & Value\\\\\n",
       "  & <dbl> & <chr> & <int>\\\\\n",
       "\\hline\n",
       "\t1 & 2022484408 & 4/12/2016 7:21:00 AM &  97\\\\\n",
       "\t2 & 2022484408 & 4/12/2016 7:21:05 AM & 102\\\\\n",
       "\t3 & 2022484408 & 4/12/2016 7:21:10 AM & 105\\\\\n",
       "\t4 & 2022484408 & 4/12/2016 7:21:20 AM & 103\\\\\n",
       "\t5 & 2022484408 & 4/12/2016 7:21:25 AM & 101\\\\\n",
       "\t6 & 2022484408 & 4/12/2016 7:22:05 AM &  95\\\\\n",
       "\\end{tabular}\n"
      ],
      "text/markdown": [
       "\n",
       "A data.frame: 6 × 3\n",
       "\n",
       "| <!--/--> | Id &lt;dbl&gt; | Time &lt;chr&gt; | Value &lt;int&gt; |\n",
       "|---|---|---|---|\n",
       "| 1 | 2022484408 | 4/12/2016 7:21:00 AM |  97 |\n",
       "| 2 | 2022484408 | 4/12/2016 7:21:05 AM | 102 |\n",
       "| 3 | 2022484408 | 4/12/2016 7:21:10 AM | 105 |\n",
       "| 4 | 2022484408 | 4/12/2016 7:21:20 AM | 103 |\n",
       "| 5 | 2022484408 | 4/12/2016 7:21:25 AM | 101 |\n",
       "| 6 | 2022484408 | 4/12/2016 7:22:05 AM |  95 |\n",
       "\n"
      ],
      "text/plain": [
       "  Id         Time                 Value\n",
       "1 2022484408 4/12/2016 7:21:00 AM  97  \n",
       "2 2022484408 4/12/2016 7:21:05 AM 102  \n",
       "3 2022484408 4/12/2016 7:21:10 AM 105  \n",
       "4 2022484408 4/12/2016 7:21:20 AM 103  \n",
       "5 2022484408 4/12/2016 7:21:25 AM 101  \n",
       "6 2022484408 4/12/2016 7:22:05 AM  95  "
      ]
     },
     "metadata": {},
     "output_type": "display_data"
    },
    {
     "name": "stdout",
     "output_type": "stream",
     "text": [
      "'data.frame':\t940 obs. of  15 variables:\n",
      " $ Id                      : num  1.5e+09 1.5e+09 1.5e+09 1.5e+09 1.5e+09 ...\n",
      " $ ActivityDate            : chr  \"4/12/2016\" \"4/13/2016\" \"4/14/2016\" \"4/15/2016\" ...\n",
      " $ TotalSteps              : int  13162 10735 10460 9762 12669 9705 13019 15506 10544 9819 ...\n",
      " $ TotalDistance           : num  8.5 6.97 6.74 6.28 8.16 ...\n",
      " $ TrackerDistance         : num  8.5 6.97 6.74 6.28 8.16 ...\n",
      " $ LoggedActivitiesDistance: num  0 0 0 0 0 0 0 0 0 0 ...\n",
      " $ VeryActiveDistance      : num  1.88 1.57 2.44 2.14 2.71 ...\n",
      " $ ModeratelyActiveDistance: num  0.55 0.69 0.4 1.26 0.41 ...\n",
      " $ LightActiveDistance     : num  6.06 4.71 3.91 2.83 5.04 ...\n",
      " $ SedentaryActiveDistance : num  0 0 0 0 0 0 0 0 0 0 ...\n",
      " $ VeryActiveMinutes       : int  25 21 30 29 36 38 42 50 28 19 ...\n",
      " $ FairlyActiveMinutes     : int  13 19 11 34 10 20 16 31 12 8 ...\n",
      " $ LightlyActiveMinutes    : int  328 217 181 209 221 164 233 264 205 211 ...\n",
      " $ SedentaryMinutes        : int  728 776 1218 726 773 539 1149 775 818 838 ...\n",
      " $ Calories                : int  1985 1797 1776 1745 1863 1728 1921 2035 1786 1775 ...\n",
      "'data.frame':\t413 obs. of  5 variables:\n",
      " $ Id                : num  1.5e+09 1.5e+09 1.5e+09 1.5e+09 1.5e+09 ...\n",
      " $ SleepDay          : chr  \"4/12/2016 12:00:00 AM\" \"4/13/2016 12:00:00 AM\" \"4/15/2016 12:00:00 AM\" \"4/16/2016 12:00:00 AM\" ...\n",
      " $ TotalSleepRecords : int  1 2 1 2 1 1 1 1 1 1 ...\n",
      " $ TotalMinutesAsleep: int  327 384 412 340 700 304 360 325 361 430 ...\n",
      " $ TotalTimeInBed    : int  346 407 442 367 712 320 377 364 384 449 ...\n",
      "'data.frame':\t67 obs. of  8 variables:\n",
      " $ Id            : num  1.50e+09 1.50e+09 1.93e+09 2.87e+09 2.87e+09 ...\n",
      " $ Date          : chr  \"5/2/2016 11:59:59 PM\" \"5/3/2016 11:59:59 PM\" \"4/13/2016 1:08:52 AM\" \"4/21/2016 11:59:59 PM\" ...\n",
      " $ WeightKg      : num  52.6 52.6 133.5 56.7 57.3 ...\n",
      " $ WeightPounds  : num  116 116 294 125 126 ...\n",
      " $ Fat           : int  22 NA NA NA NA 25 NA NA NA NA ...\n",
      " $ BMI           : num  22.6 22.6 47.5 21.5 21.7 ...\n",
      " $ IsManualReport: chr  \"True\" \"True\" \"False\" \"True\" ...\n",
      " $ LogId         : num  1.46e+12 1.46e+12 1.46e+12 1.46e+12 1.46e+12 ...\n",
      "'data.frame':\t2483658 obs. of  3 variables:\n",
      " $ Id   : num  2.02e+09 2.02e+09 2.02e+09 2.02e+09 2.02e+09 ...\n",
      " $ Time : chr  \"4/12/2016 7:21:00 AM\" \"4/12/2016 7:21:05 AM\" \"4/12/2016 7:21:10 AM\" \"4/12/2016 7:21:20 AM\" ...\n",
      " $ Value: int  97 102 105 103 101 95 91 93 94 93 ...\n"
     ]
    }
   ],
   "source": [
    "#Using head() to get an overview of our data\n",
    "head(daily_activity)\n",
    "head(daily_sleep)\n",
    "head(weight_info)\n",
    "head(heartrate_seconds)\n",
    "\n",
    "#Using str() to check the datatype of every column in our data frames\n",
    "str(daily_activity)\n",
    "str(daily_sleep)\n",
    "str(weight_info)\n",
    "str(heartrate_seconds)"
   ]
  },
  {
   "cell_type": "markdown",
   "id": "6137abd9",
   "metadata": {
    "papermill": {
     "duration": 0.014024,
     "end_time": "2023-07-28T10:53:07.629204",
     "exception": false,
     "start_time": "2023-07-28T10:53:07.615180",
     "status": "completed"
    },
    "tags": []
   },
   "source": [
    "# *Process Phase*\n",
    "### Changing the data formats\n",
    "After inspecting our data we see that the dates of all the data frames have the format character, so we change them to a date and date time format:"
   ]
  },
  {
   "cell_type": "code",
   "execution_count": 4,
   "id": "612994e5",
   "metadata": {
    "execution": {
     "iopub.execute_input": "2023-07-28T10:53:07.658885Z",
     "iopub.status.busy": "2023-07-28T10:53:07.657102Z",
     "iopub.status.idle": "2023-07-28T10:53:10.884258Z",
     "shell.execute_reply": "2023-07-28T10:53:10.882147Z"
    },
    "papermill": {
     "duration": 3.245858,
     "end_time": "2023-07-28T10:53:10.887615",
     "exception": false,
     "start_time": "2023-07-28T10:53:07.641757",
     "status": "completed"
    },
    "tags": []
   },
   "outputs": [
    {
     "name": "stdout",
     "output_type": "stream",
     "text": [
      "'data.frame':\t940 obs. of  15 variables:\n",
      " $ Id                      : num  1.5e+09 1.5e+09 1.5e+09 1.5e+09 1.5e+09 ...\n",
      " $ ActivityDate            : Date, format: \"2016-04-12\" \"2016-04-13\" ...\n",
      " $ TotalSteps              : int  13162 10735 10460 9762 12669 9705 13019 15506 10544 9819 ...\n",
      " $ TotalDistance           : num  8.5 6.97 6.74 6.28 8.16 ...\n",
      " $ TrackerDistance         : num  8.5 6.97 6.74 6.28 8.16 ...\n",
      " $ LoggedActivitiesDistance: num  0 0 0 0 0 0 0 0 0 0 ...\n",
      " $ VeryActiveDistance      : num  1.88 1.57 2.44 2.14 2.71 ...\n",
      " $ ModeratelyActiveDistance: num  0.55 0.69 0.4 1.26 0.41 ...\n",
      " $ LightActiveDistance     : num  6.06 4.71 3.91 2.83 5.04 ...\n",
      " $ SedentaryActiveDistance : num  0 0 0 0 0 0 0 0 0 0 ...\n",
      " $ VeryActiveMinutes       : int  25 21 30 29 36 38 42 50 28 19 ...\n",
      " $ FairlyActiveMinutes     : int  13 19 11 34 10 20 16 31 12 8 ...\n",
      " $ LightlyActiveMinutes    : int  328 217 181 209 221 164 233 264 205 211 ...\n",
      " $ SedentaryMinutes        : int  728 776 1218 726 773 539 1149 775 818 838 ...\n",
      " $ Calories                : int  1985 1797 1776 1745 1863 1728 1921 2035 1786 1775 ...\n"
     ]
    }
   ],
   "source": [
    "#Changing the datatype of Dates and Time in all of our Data Frames\n",
    "daily_activity <- daily_activity %>%\n",
    "  mutate(ActivityDate = as.Date(ActivityDate, format = \"%m/%d/%Y\"))\n",
    "str(daily_activity)\n",
    "daily_sleep <- daily_sleep %>%\n",
    "  mutate(SleepDay = as.Date(SleepDay, format = \"%m/%d/%Y\"))\n",
    "weight_info <- weight_info %>%\n",
    "  mutate(Date = as.Date(Date, format = \"%m/%d/%Y %H:%M:%S %p\"))\n",
    "heartrate_seconds <- heartrate_seconds %>%\n",
    "  mutate(Time = as.Date(Time, format = \"%m/%d/%Y %H:%M:%S %p\"))"
   ]
  },
  {
   "cell_type": "markdown",
   "id": "aa89d17b",
   "metadata": {
    "papermill": {
     "duration": 0.012778,
     "end_time": "2023-07-28T10:53:10.913941",
     "exception": false,
     "start_time": "2023-07-28T10:53:10.901163",
     "status": "completed"
    },
    "tags": []
   },
   "source": [
    "### Checking for duplicated rows and deleting them\n",
    "We check for duplicated data so we can delete them:"
   ]
  },
  {
   "cell_type": "code",
   "execution_count": 5,
   "id": "bf39fd47",
   "metadata": {
    "execution": {
     "iopub.execute_input": "2023-07-28T10:53:10.943551Z",
     "iopub.status.busy": "2023-07-28T10:53:10.941466Z",
     "iopub.status.idle": "2023-07-28T10:53:37.047446Z",
     "shell.execute_reply": "2023-07-28T10:53:37.045497Z"
    },
    "papermill": {
     "duration": 26.124353,
     "end_time": "2023-07-28T10:53:37.051000",
     "exception": false,
     "start_time": "2023-07-28T10:53:10.926647",
     "status": "completed"
    },
    "tags": []
   },
   "outputs": [
    {
     "data": {
      "text/html": [
       "0"
      ],
      "text/latex": [
       "0"
      ],
      "text/markdown": [
       "0"
      ],
      "text/plain": [
       "[1] 0"
      ]
     },
     "metadata": {},
     "output_type": "display_data"
    },
    {
     "data": {
      "text/html": [
       "3"
      ],
      "text/latex": [
       "3"
      ],
      "text/markdown": [
       "3"
      ],
      "text/plain": [
       "[1] 3"
      ]
     },
     "metadata": {},
     "output_type": "display_data"
    },
    {
     "data": {
      "text/html": [
       "0"
      ],
      "text/latex": [
       "0"
      ],
      "text/markdown": [
       "0"
      ],
      "text/plain": [
       "[1] 0"
      ]
     },
     "metadata": {},
     "output_type": "display_data"
    },
    {
     "data": {
      "text/html": [
       "2456151"
      ],
      "text/latex": [
       "2456151"
      ],
      "text/markdown": [
       "2456151"
      ],
      "text/plain": [
       "[1] 2456151"
      ]
     },
     "metadata": {},
     "output_type": "display_data"
    },
    {
     "data": {
      "text/html": [
       "0"
      ],
      "text/latex": [
       "0"
      ],
      "text/markdown": [
       "0"
      ],
      "text/plain": [
       "[1] 0"
      ]
     },
     "metadata": {},
     "output_type": "display_data"
    }
   ],
   "source": [
    "#Checking if there are any duplicates in our data\n",
    "sum(duplicated(daily_activity))\n",
    "sum(duplicated(daily_sleep))\n",
    "sum(duplicated(weight_info))\n",
    "sum(duplicated(heartrate_seconds))\n",
    "\n",
    "#Removing the duplicates we found in our daily_sleep data frame\n",
    "daily_sleep <- daily_sleep[!duplicated(daily_sleep), ]\n",
    "\n",
    "#Checking if our duplicated were removed or not\n",
    "sum(duplicated(daily_sleep))"
   ]
  },
  {
   "cell_type": "markdown",
   "id": "c03bf09f",
   "metadata": {
    "papermill": {
     "duration": 0.013682,
     "end_time": "2023-07-28T10:53:37.079667",
     "exception": false,
     "start_time": "2023-07-28T10:53:37.065985",
     "status": "completed"
    },
    "tags": []
   },
   "source": [
    "### Checking how many users have entered there data in our Data frames"
   ]
  },
  {
   "cell_type": "code",
   "execution_count": 6,
   "id": "ad9fdf76",
   "metadata": {
    "execution": {
     "iopub.execute_input": "2023-07-28T10:53:37.111152Z",
     "iopub.status.busy": "2023-07-28T10:53:37.109408Z",
     "iopub.status.idle": "2023-07-28T10:53:37.275588Z",
     "shell.execute_reply": "2023-07-28T10:53:37.273750Z"
    },
    "papermill": {
     "duration": 0.18487,
     "end_time": "2023-07-28T10:53:37.278372",
     "exception": false,
     "start_time": "2023-07-28T10:53:37.093502",
     "status": "completed"
    },
    "tags": []
   },
   "outputs": [
    {
     "data": {
      "text/html": [
       "33"
      ],
      "text/latex": [
       "33"
      ],
      "text/markdown": [
       "33"
      ],
      "text/plain": [
       "[1] 33"
      ]
     },
     "metadata": {},
     "output_type": "display_data"
    },
    {
     "data": {
      "text/html": [
       "24"
      ],
      "text/latex": [
       "24"
      ],
      "text/markdown": [
       "24"
      ],
      "text/plain": [
       "[1] 24"
      ]
     },
     "metadata": {},
     "output_type": "display_data"
    },
    {
     "data": {
      "text/html": [
       "67"
      ],
      "text/latex": [
       "67"
      ],
      "text/markdown": [
       "67"
      ],
      "text/plain": [
       "[1] 67"
      ]
     },
     "metadata": {},
     "output_type": "display_data"
    },
    {
     "data": {
      "text/html": [
       "14"
      ],
      "text/latex": [
       "14"
      ],
      "text/markdown": [
       "14"
      ],
      "text/plain": [
       "[1] 14"
      ]
     },
     "metadata": {},
     "output_type": "display_data"
    }
   ],
   "source": [
    "#Checking how many fitbit users have actually entered data in these data frames\n",
    "n_distinct(daily_activity$Id)\n",
    "n_distinct(daily_sleep$Id)\n",
    "n_distinct(weight_info)\n",
    "n_distinct(heartrate_seconds$Id)"
   ]
  },
  {
   "cell_type": "markdown",
   "id": "9b087545",
   "metadata": {
    "papermill": {
     "duration": 0.014255,
     "end_time": "2023-07-28T10:53:37.307179",
     "exception": false,
     "start_time": "2023-07-28T10:53:37.292924",
     "status": "completed"
    },
    "tags": []
   },
   "source": [
    "## Adding Columns\n",
    "\n",
    "### Adding columns to the daily_activity dataframe\n",
    "Adding a column total_active_hours."
   ]
  },
  {
   "cell_type": "code",
   "execution_count": 7,
   "id": "d0bc3322",
   "metadata": {
    "execution": {
     "iopub.execute_input": "2023-07-28T10:53:37.340862Z",
     "iopub.status.busy": "2023-07-28T10:53:37.338425Z",
     "iopub.status.idle": "2023-07-28T10:53:37.383891Z",
     "shell.execute_reply": "2023-07-28T10:53:37.381270Z"
    },
    "papermill": {
     "duration": 0.065527,
     "end_time": "2023-07-28T10:53:37.387292",
     "exception": false,
     "start_time": "2023-07-28T10:53:37.321765",
     "status": "completed"
    },
    "tags": []
   },
   "outputs": [
    {
     "data": {
      "text/html": [
       "<table class=\"dataframe\">\n",
       "<caption>A data.frame: 6 × 16</caption>\n",
       "<thead>\n",
       "\t<tr><th></th><th scope=col>Id</th><th scope=col>ActivityDate</th><th scope=col>TotalSteps</th><th scope=col>TotalDistance</th><th scope=col>TrackerDistance</th><th scope=col>LoggedActivitiesDistance</th><th scope=col>VeryActiveDistance</th><th scope=col>ModeratelyActiveDistance</th><th scope=col>LightActiveDistance</th><th scope=col>SedentaryActiveDistance</th><th scope=col>VeryActiveMinutes</th><th scope=col>FairlyActiveMinutes</th><th scope=col>LightlyActiveMinutes</th><th scope=col>SedentaryMinutes</th><th scope=col>Calories</th><th scope=col>total_active_hours</th></tr>\n",
       "\t<tr><th></th><th scope=col>&lt;dbl&gt;</th><th scope=col>&lt;date&gt;</th><th scope=col>&lt;int&gt;</th><th scope=col>&lt;dbl&gt;</th><th scope=col>&lt;dbl&gt;</th><th scope=col>&lt;dbl&gt;</th><th scope=col>&lt;dbl&gt;</th><th scope=col>&lt;dbl&gt;</th><th scope=col>&lt;dbl&gt;</th><th scope=col>&lt;dbl&gt;</th><th scope=col>&lt;int&gt;</th><th scope=col>&lt;int&gt;</th><th scope=col>&lt;int&gt;</th><th scope=col>&lt;int&gt;</th><th scope=col>&lt;int&gt;</th><th scope=col>&lt;dbl&gt;</th></tr>\n",
       "</thead>\n",
       "<tbody>\n",
       "\t<tr><th scope=row>1</th><td>1503960366</td><td>2016-04-12</td><td>13162</td><td>8.50</td><td>8.50</td><td>0</td><td>1.88</td><td>0.55</td><td>6.06</td><td>0</td><td>25</td><td>13</td><td>328</td><td> 728</td><td>1985</td><td>6.100000</td></tr>\n",
       "\t<tr><th scope=row>2</th><td>1503960366</td><td>2016-04-13</td><td>10735</td><td>6.97</td><td>6.97</td><td>0</td><td>1.57</td><td>0.69</td><td>4.71</td><td>0</td><td>21</td><td>19</td><td>217</td><td> 776</td><td>1797</td><td>4.283333</td></tr>\n",
       "\t<tr><th scope=row>3</th><td>1503960366</td><td>2016-04-14</td><td>10460</td><td>6.74</td><td>6.74</td><td>0</td><td>2.44</td><td>0.40</td><td>3.91</td><td>0</td><td>30</td><td>11</td><td>181</td><td>1218</td><td>1776</td><td>3.700000</td></tr>\n",
       "\t<tr><th scope=row>4</th><td>1503960366</td><td>2016-04-15</td><td> 9762</td><td>6.28</td><td>6.28</td><td>0</td><td>2.14</td><td>1.26</td><td>2.83</td><td>0</td><td>29</td><td>34</td><td>209</td><td> 726</td><td>1745</td><td>4.533333</td></tr>\n",
       "\t<tr><th scope=row>5</th><td>1503960366</td><td>2016-04-16</td><td>12669</td><td>8.16</td><td>8.16</td><td>0</td><td>2.71</td><td>0.41</td><td>5.04</td><td>0</td><td>36</td><td>10</td><td>221</td><td> 773</td><td>1863</td><td>4.450000</td></tr>\n",
       "\t<tr><th scope=row>6</th><td>1503960366</td><td>2016-04-17</td><td> 9705</td><td>6.48</td><td>6.48</td><td>0</td><td>3.19</td><td>0.78</td><td>2.51</td><td>0</td><td>38</td><td>20</td><td>164</td><td> 539</td><td>1728</td><td>3.700000</td></tr>\n",
       "</tbody>\n",
       "</table>\n"
      ],
      "text/latex": [
       "A data.frame: 6 × 16\n",
       "\\begin{tabular}{r|llllllllllllllll}\n",
       "  & Id & ActivityDate & TotalSteps & TotalDistance & TrackerDistance & LoggedActivitiesDistance & VeryActiveDistance & ModeratelyActiveDistance & LightActiveDistance & SedentaryActiveDistance & VeryActiveMinutes & FairlyActiveMinutes & LightlyActiveMinutes & SedentaryMinutes & Calories & total\\_active\\_hours\\\\\n",
       "  & <dbl> & <date> & <int> & <dbl> & <dbl> & <dbl> & <dbl> & <dbl> & <dbl> & <dbl> & <int> & <int> & <int> & <int> & <int> & <dbl>\\\\\n",
       "\\hline\n",
       "\t1 & 1503960366 & 2016-04-12 & 13162 & 8.50 & 8.50 & 0 & 1.88 & 0.55 & 6.06 & 0 & 25 & 13 & 328 &  728 & 1985 & 6.100000\\\\\n",
       "\t2 & 1503960366 & 2016-04-13 & 10735 & 6.97 & 6.97 & 0 & 1.57 & 0.69 & 4.71 & 0 & 21 & 19 & 217 &  776 & 1797 & 4.283333\\\\\n",
       "\t3 & 1503960366 & 2016-04-14 & 10460 & 6.74 & 6.74 & 0 & 2.44 & 0.40 & 3.91 & 0 & 30 & 11 & 181 & 1218 & 1776 & 3.700000\\\\\n",
       "\t4 & 1503960366 & 2016-04-15 &  9762 & 6.28 & 6.28 & 0 & 2.14 & 1.26 & 2.83 & 0 & 29 & 34 & 209 &  726 & 1745 & 4.533333\\\\\n",
       "\t5 & 1503960366 & 2016-04-16 & 12669 & 8.16 & 8.16 & 0 & 2.71 & 0.41 & 5.04 & 0 & 36 & 10 & 221 &  773 & 1863 & 4.450000\\\\\n",
       "\t6 & 1503960366 & 2016-04-17 &  9705 & 6.48 & 6.48 & 0 & 3.19 & 0.78 & 2.51 & 0 & 38 & 20 & 164 &  539 & 1728 & 3.700000\\\\\n",
       "\\end{tabular}\n"
      ],
      "text/markdown": [
       "\n",
       "A data.frame: 6 × 16\n",
       "\n",
       "| <!--/--> | Id &lt;dbl&gt; | ActivityDate &lt;date&gt; | TotalSteps &lt;int&gt; | TotalDistance &lt;dbl&gt; | TrackerDistance &lt;dbl&gt; | LoggedActivitiesDistance &lt;dbl&gt; | VeryActiveDistance &lt;dbl&gt; | ModeratelyActiveDistance &lt;dbl&gt; | LightActiveDistance &lt;dbl&gt; | SedentaryActiveDistance &lt;dbl&gt; | VeryActiveMinutes &lt;int&gt; | FairlyActiveMinutes &lt;int&gt; | LightlyActiveMinutes &lt;int&gt; | SedentaryMinutes &lt;int&gt; | Calories &lt;int&gt; | total_active_hours &lt;dbl&gt; |\n",
       "|---|---|---|---|---|---|---|---|---|---|---|---|---|---|---|---|---|\n",
       "| 1 | 1503960366 | 2016-04-12 | 13162 | 8.50 | 8.50 | 0 | 1.88 | 0.55 | 6.06 | 0 | 25 | 13 | 328 |  728 | 1985 | 6.100000 |\n",
       "| 2 | 1503960366 | 2016-04-13 | 10735 | 6.97 | 6.97 | 0 | 1.57 | 0.69 | 4.71 | 0 | 21 | 19 | 217 |  776 | 1797 | 4.283333 |\n",
       "| 3 | 1503960366 | 2016-04-14 | 10460 | 6.74 | 6.74 | 0 | 2.44 | 0.40 | 3.91 | 0 | 30 | 11 | 181 | 1218 | 1776 | 3.700000 |\n",
       "| 4 | 1503960366 | 2016-04-15 |  9762 | 6.28 | 6.28 | 0 | 2.14 | 1.26 | 2.83 | 0 | 29 | 34 | 209 |  726 | 1745 | 4.533333 |\n",
       "| 5 | 1503960366 | 2016-04-16 | 12669 | 8.16 | 8.16 | 0 | 2.71 | 0.41 | 5.04 | 0 | 36 | 10 | 221 |  773 | 1863 | 4.450000 |\n",
       "| 6 | 1503960366 | 2016-04-17 |  9705 | 6.48 | 6.48 | 0 | 3.19 | 0.78 | 2.51 | 0 | 38 | 20 | 164 |  539 | 1728 | 3.700000 |\n",
       "\n"
      ],
      "text/plain": [
       "  Id         ActivityDate TotalSteps TotalDistance TrackerDistance\n",
       "1 1503960366 2016-04-12   13162      8.50          8.50           \n",
       "2 1503960366 2016-04-13   10735      6.97          6.97           \n",
       "3 1503960366 2016-04-14   10460      6.74          6.74           \n",
       "4 1503960366 2016-04-15    9762      6.28          6.28           \n",
       "5 1503960366 2016-04-16   12669      8.16          8.16           \n",
       "6 1503960366 2016-04-17    9705      6.48          6.48           \n",
       "  LoggedActivitiesDistance VeryActiveDistance ModeratelyActiveDistance\n",
       "1 0                        1.88               0.55                    \n",
       "2 0                        1.57               0.69                    \n",
       "3 0                        2.44               0.40                    \n",
       "4 0                        2.14               1.26                    \n",
       "5 0                        2.71               0.41                    \n",
       "6 0                        3.19               0.78                    \n",
       "  LightActiveDistance SedentaryActiveDistance VeryActiveMinutes\n",
       "1 6.06                0                       25               \n",
       "2 4.71                0                       21               \n",
       "3 3.91                0                       30               \n",
       "4 2.83                0                       29               \n",
       "5 5.04                0                       36               \n",
       "6 2.51                0                       38               \n",
       "  FairlyActiveMinutes LightlyActiveMinutes SedentaryMinutes Calories\n",
       "1 13                  328                   728             1985    \n",
       "2 19                  217                   776             1797    \n",
       "3 11                  181                  1218             1776    \n",
       "4 34                  209                   726             1745    \n",
       "5 10                  221                   773             1863    \n",
       "6 20                  164                   539             1728    \n",
       "  total_active_hours\n",
       "1 6.100000          \n",
       "2 4.283333          \n",
       "3 3.700000          \n",
       "4 4.533333          \n",
       "5 4.450000          \n",
       "6 3.700000          "
      ]
     },
     "metadata": {},
     "output_type": "display_data"
    }
   ],
   "source": [
    "#Adding columns in the data frame daily_activity\n",
    "daily_activity <- mutate(daily_activity, total_active_hours = (VeryActiveMinutes + FairlyActiveMinutes + LightlyActiveMinutes)/60)\n",
    "head(daily_activity)"
   ]
  },
  {
   "cell_type": "markdown",
   "id": "73275d1c",
   "metadata": {
    "papermill": {
     "duration": 0.01484,
     "end_time": "2023-07-28T10:53:37.417497",
     "exception": false,
     "start_time": "2023-07-28T10:53:37.402657",
     "status": "completed"
    },
    "tags": []
   },
   "source": [
    "### Adding columns to the daily_sleep dataframe\n",
    "Adding a column tine_except_sleeping_in_bed"
   ]
  },
  {
   "cell_type": "code",
   "execution_count": 8,
   "id": "4e40f252",
   "metadata": {
    "execution": {
     "iopub.execute_input": "2023-07-28T10:53:37.452587Z",
     "iopub.status.busy": "2023-07-28T10:53:37.450730Z",
     "iopub.status.idle": "2023-07-28T10:53:37.486004Z",
     "shell.execute_reply": "2023-07-28T10:53:37.483953Z"
    },
    "papermill": {
     "duration": 0.056255,
     "end_time": "2023-07-28T10:53:37.488828",
     "exception": false,
     "start_time": "2023-07-28T10:53:37.432573",
     "status": "completed"
    },
    "tags": []
   },
   "outputs": [
    {
     "data": {
      "text/html": [
       "<table class=\"dataframe\">\n",
       "<caption>A data.frame: 6 × 6</caption>\n",
       "<thead>\n",
       "\t<tr><th></th><th scope=col>Id</th><th scope=col>SleepDay</th><th scope=col>TotalSleepRecords</th><th scope=col>TotalMinutesAsleep</th><th scope=col>TotalTimeInBed</th><th scope=col>time_except_sleeping_in_bed</th></tr>\n",
       "\t<tr><th></th><th scope=col>&lt;dbl&gt;</th><th scope=col>&lt;date&gt;</th><th scope=col>&lt;int&gt;</th><th scope=col>&lt;int&gt;</th><th scope=col>&lt;int&gt;</th><th scope=col>&lt;int&gt;</th></tr>\n",
       "</thead>\n",
       "<tbody>\n",
       "\t<tr><th scope=row>1</th><td>1503960366</td><td>2016-04-12</td><td>1</td><td>327</td><td>346</td><td>19</td></tr>\n",
       "\t<tr><th scope=row>2</th><td>1503960366</td><td>2016-04-13</td><td>2</td><td>384</td><td>407</td><td>23</td></tr>\n",
       "\t<tr><th scope=row>3</th><td>1503960366</td><td>2016-04-15</td><td>1</td><td>412</td><td>442</td><td>30</td></tr>\n",
       "\t<tr><th scope=row>4</th><td>1503960366</td><td>2016-04-16</td><td>2</td><td>340</td><td>367</td><td>27</td></tr>\n",
       "\t<tr><th scope=row>5</th><td>1503960366</td><td>2016-04-17</td><td>1</td><td>700</td><td>712</td><td>12</td></tr>\n",
       "\t<tr><th scope=row>6</th><td>1503960366</td><td>2016-04-19</td><td>1</td><td>304</td><td>320</td><td>16</td></tr>\n",
       "</tbody>\n",
       "</table>\n"
      ],
      "text/latex": [
       "A data.frame: 6 × 6\n",
       "\\begin{tabular}{r|llllll}\n",
       "  & Id & SleepDay & TotalSleepRecords & TotalMinutesAsleep & TotalTimeInBed & time\\_except\\_sleeping\\_in\\_bed\\\\\n",
       "  & <dbl> & <date> & <int> & <int> & <int> & <int>\\\\\n",
       "\\hline\n",
       "\t1 & 1503960366 & 2016-04-12 & 1 & 327 & 346 & 19\\\\\n",
       "\t2 & 1503960366 & 2016-04-13 & 2 & 384 & 407 & 23\\\\\n",
       "\t3 & 1503960366 & 2016-04-15 & 1 & 412 & 442 & 30\\\\\n",
       "\t4 & 1503960366 & 2016-04-16 & 2 & 340 & 367 & 27\\\\\n",
       "\t5 & 1503960366 & 2016-04-17 & 1 & 700 & 712 & 12\\\\\n",
       "\t6 & 1503960366 & 2016-04-19 & 1 & 304 & 320 & 16\\\\\n",
       "\\end{tabular}\n"
      ],
      "text/markdown": [
       "\n",
       "A data.frame: 6 × 6\n",
       "\n",
       "| <!--/--> | Id &lt;dbl&gt; | SleepDay &lt;date&gt; | TotalSleepRecords &lt;int&gt; | TotalMinutesAsleep &lt;int&gt; | TotalTimeInBed &lt;int&gt; | time_except_sleeping_in_bed &lt;int&gt; |\n",
       "|---|---|---|---|---|---|---|\n",
       "| 1 | 1503960366 | 2016-04-12 | 1 | 327 | 346 | 19 |\n",
       "| 2 | 1503960366 | 2016-04-13 | 2 | 384 | 407 | 23 |\n",
       "| 3 | 1503960366 | 2016-04-15 | 1 | 412 | 442 | 30 |\n",
       "| 4 | 1503960366 | 2016-04-16 | 2 | 340 | 367 | 27 |\n",
       "| 5 | 1503960366 | 2016-04-17 | 1 | 700 | 712 | 12 |\n",
       "| 6 | 1503960366 | 2016-04-19 | 1 | 304 | 320 | 16 |\n",
       "\n"
      ],
      "text/plain": [
       "  Id         SleepDay   TotalSleepRecords TotalMinutesAsleep TotalTimeInBed\n",
       "1 1503960366 2016-04-12 1                 327                346           \n",
       "2 1503960366 2016-04-13 2                 384                407           \n",
       "3 1503960366 2016-04-15 1                 412                442           \n",
       "4 1503960366 2016-04-16 2                 340                367           \n",
       "5 1503960366 2016-04-17 1                 700                712           \n",
       "6 1503960366 2016-04-19 1                 304                320           \n",
       "  time_except_sleeping_in_bed\n",
       "1 19                         \n",
       "2 23                         \n",
       "3 30                         \n",
       "4 27                         \n",
       "5 12                         \n",
       "6 16                         "
      ]
     },
     "metadata": {},
     "output_type": "display_data"
    }
   ],
   "source": [
    "#Adding column in the data frame daily_sleep\n",
    "daily_sleep <- mutate(daily_sleep, time_except_sleeping_in_bed = TotalTimeInBed - TotalMinutesAsleep)\n",
    "head(daily_sleep)"
   ]
  },
  {
   "cell_type": "markdown",
   "id": "cbb3a0bb",
   "metadata": {
    "papermill": {
     "duration": 0.01492,
     "end_time": "2023-07-28T10:53:37.519156",
     "exception": false,
     "start_time": "2023-07-28T10:53:37.504236",
     "status": "completed"
    },
    "tags": []
   },
   "source": [
    "### Renaming Date Columns\n",
    "We'll be renaming our Date and time columns to a same name \"date\""
   ]
  },
  {
   "cell_type": "code",
   "execution_count": 9,
   "id": "7801d598",
   "metadata": {
    "execution": {
     "iopub.execute_input": "2023-07-28T10:53:37.553608Z",
     "iopub.status.busy": "2023-07-28T10:53:37.551732Z",
     "iopub.status.idle": "2023-07-28T10:53:37.644089Z",
     "shell.execute_reply": "2023-07-28T10:53:37.641912Z"
    },
    "papermill": {
     "duration": 0.11278,
     "end_time": "2023-07-28T10:53:37.647147",
     "exception": false,
     "start_time": "2023-07-28T10:53:37.534367",
     "status": "completed"
    },
    "tags": []
   },
   "outputs": [
    {
     "data": {
      "text/html": [
       "<table class=\"dataframe\">\n",
       "<caption>A data.frame: 6 × 16</caption>\n",
       "<thead>\n",
       "\t<tr><th></th><th scope=col>Id</th><th scope=col>date</th><th scope=col>TotalSteps</th><th scope=col>TotalDistance</th><th scope=col>TrackerDistance</th><th scope=col>LoggedActivitiesDistance</th><th scope=col>VeryActiveDistance</th><th scope=col>ModeratelyActiveDistance</th><th scope=col>LightActiveDistance</th><th scope=col>SedentaryActiveDistance</th><th scope=col>VeryActiveMinutes</th><th scope=col>FairlyActiveMinutes</th><th scope=col>LightlyActiveMinutes</th><th scope=col>SedentaryMinutes</th><th scope=col>Calories</th><th scope=col>total_active_hours</th></tr>\n",
       "\t<tr><th></th><th scope=col>&lt;dbl&gt;</th><th scope=col>&lt;date&gt;</th><th scope=col>&lt;int&gt;</th><th scope=col>&lt;dbl&gt;</th><th scope=col>&lt;dbl&gt;</th><th scope=col>&lt;dbl&gt;</th><th scope=col>&lt;dbl&gt;</th><th scope=col>&lt;dbl&gt;</th><th scope=col>&lt;dbl&gt;</th><th scope=col>&lt;dbl&gt;</th><th scope=col>&lt;int&gt;</th><th scope=col>&lt;int&gt;</th><th scope=col>&lt;int&gt;</th><th scope=col>&lt;int&gt;</th><th scope=col>&lt;int&gt;</th><th scope=col>&lt;dbl&gt;</th></tr>\n",
       "</thead>\n",
       "<tbody>\n",
       "\t<tr><th scope=row>1</th><td>1503960366</td><td>2016-04-12</td><td>13162</td><td>8.50</td><td>8.50</td><td>0</td><td>1.88</td><td>0.55</td><td>6.06</td><td>0</td><td>25</td><td>13</td><td>328</td><td> 728</td><td>1985</td><td>6.100000</td></tr>\n",
       "\t<tr><th scope=row>2</th><td>1503960366</td><td>2016-04-13</td><td>10735</td><td>6.97</td><td>6.97</td><td>0</td><td>1.57</td><td>0.69</td><td>4.71</td><td>0</td><td>21</td><td>19</td><td>217</td><td> 776</td><td>1797</td><td>4.283333</td></tr>\n",
       "\t<tr><th scope=row>3</th><td>1503960366</td><td>2016-04-14</td><td>10460</td><td>6.74</td><td>6.74</td><td>0</td><td>2.44</td><td>0.40</td><td>3.91</td><td>0</td><td>30</td><td>11</td><td>181</td><td>1218</td><td>1776</td><td>3.700000</td></tr>\n",
       "\t<tr><th scope=row>4</th><td>1503960366</td><td>2016-04-15</td><td> 9762</td><td>6.28</td><td>6.28</td><td>0</td><td>2.14</td><td>1.26</td><td>2.83</td><td>0</td><td>29</td><td>34</td><td>209</td><td> 726</td><td>1745</td><td>4.533333</td></tr>\n",
       "\t<tr><th scope=row>5</th><td>1503960366</td><td>2016-04-16</td><td>12669</td><td>8.16</td><td>8.16</td><td>0</td><td>2.71</td><td>0.41</td><td>5.04</td><td>0</td><td>36</td><td>10</td><td>221</td><td> 773</td><td>1863</td><td>4.450000</td></tr>\n",
       "\t<tr><th scope=row>6</th><td>1503960366</td><td>2016-04-17</td><td> 9705</td><td>6.48</td><td>6.48</td><td>0</td><td>3.19</td><td>0.78</td><td>2.51</td><td>0</td><td>38</td><td>20</td><td>164</td><td> 539</td><td>1728</td><td>3.700000</td></tr>\n",
       "</tbody>\n",
       "</table>\n"
      ],
      "text/latex": [
       "A data.frame: 6 × 16\n",
       "\\begin{tabular}{r|llllllllllllllll}\n",
       "  & Id & date & TotalSteps & TotalDistance & TrackerDistance & LoggedActivitiesDistance & VeryActiveDistance & ModeratelyActiveDistance & LightActiveDistance & SedentaryActiveDistance & VeryActiveMinutes & FairlyActiveMinutes & LightlyActiveMinutes & SedentaryMinutes & Calories & total\\_active\\_hours\\\\\n",
       "  & <dbl> & <date> & <int> & <dbl> & <dbl> & <dbl> & <dbl> & <dbl> & <dbl> & <dbl> & <int> & <int> & <int> & <int> & <int> & <dbl>\\\\\n",
       "\\hline\n",
       "\t1 & 1503960366 & 2016-04-12 & 13162 & 8.50 & 8.50 & 0 & 1.88 & 0.55 & 6.06 & 0 & 25 & 13 & 328 &  728 & 1985 & 6.100000\\\\\n",
       "\t2 & 1503960366 & 2016-04-13 & 10735 & 6.97 & 6.97 & 0 & 1.57 & 0.69 & 4.71 & 0 & 21 & 19 & 217 &  776 & 1797 & 4.283333\\\\\n",
       "\t3 & 1503960366 & 2016-04-14 & 10460 & 6.74 & 6.74 & 0 & 2.44 & 0.40 & 3.91 & 0 & 30 & 11 & 181 & 1218 & 1776 & 3.700000\\\\\n",
       "\t4 & 1503960366 & 2016-04-15 &  9762 & 6.28 & 6.28 & 0 & 2.14 & 1.26 & 2.83 & 0 & 29 & 34 & 209 &  726 & 1745 & 4.533333\\\\\n",
       "\t5 & 1503960366 & 2016-04-16 & 12669 & 8.16 & 8.16 & 0 & 2.71 & 0.41 & 5.04 & 0 & 36 & 10 & 221 &  773 & 1863 & 4.450000\\\\\n",
       "\t6 & 1503960366 & 2016-04-17 &  9705 & 6.48 & 6.48 & 0 & 3.19 & 0.78 & 2.51 & 0 & 38 & 20 & 164 &  539 & 1728 & 3.700000\\\\\n",
       "\\end{tabular}\n"
      ],
      "text/markdown": [
       "\n",
       "A data.frame: 6 × 16\n",
       "\n",
       "| <!--/--> | Id &lt;dbl&gt; | date &lt;date&gt; | TotalSteps &lt;int&gt; | TotalDistance &lt;dbl&gt; | TrackerDistance &lt;dbl&gt; | LoggedActivitiesDistance &lt;dbl&gt; | VeryActiveDistance &lt;dbl&gt; | ModeratelyActiveDistance &lt;dbl&gt; | LightActiveDistance &lt;dbl&gt; | SedentaryActiveDistance &lt;dbl&gt; | VeryActiveMinutes &lt;int&gt; | FairlyActiveMinutes &lt;int&gt; | LightlyActiveMinutes &lt;int&gt; | SedentaryMinutes &lt;int&gt; | Calories &lt;int&gt; | total_active_hours &lt;dbl&gt; |\n",
       "|---|---|---|---|---|---|---|---|---|---|---|---|---|---|---|---|---|\n",
       "| 1 | 1503960366 | 2016-04-12 | 13162 | 8.50 | 8.50 | 0 | 1.88 | 0.55 | 6.06 | 0 | 25 | 13 | 328 |  728 | 1985 | 6.100000 |\n",
       "| 2 | 1503960366 | 2016-04-13 | 10735 | 6.97 | 6.97 | 0 | 1.57 | 0.69 | 4.71 | 0 | 21 | 19 | 217 |  776 | 1797 | 4.283333 |\n",
       "| 3 | 1503960366 | 2016-04-14 | 10460 | 6.74 | 6.74 | 0 | 2.44 | 0.40 | 3.91 | 0 | 30 | 11 | 181 | 1218 | 1776 | 3.700000 |\n",
       "| 4 | 1503960366 | 2016-04-15 |  9762 | 6.28 | 6.28 | 0 | 2.14 | 1.26 | 2.83 | 0 | 29 | 34 | 209 |  726 | 1745 | 4.533333 |\n",
       "| 5 | 1503960366 | 2016-04-16 | 12669 | 8.16 | 8.16 | 0 | 2.71 | 0.41 | 5.04 | 0 | 36 | 10 | 221 |  773 | 1863 | 4.450000 |\n",
       "| 6 | 1503960366 | 2016-04-17 |  9705 | 6.48 | 6.48 | 0 | 3.19 | 0.78 | 2.51 | 0 | 38 | 20 | 164 |  539 | 1728 | 3.700000 |\n",
       "\n"
      ],
      "text/plain": [
       "  Id         date       TotalSteps TotalDistance TrackerDistance\n",
       "1 1503960366 2016-04-12 13162      8.50          8.50           \n",
       "2 1503960366 2016-04-13 10735      6.97          6.97           \n",
       "3 1503960366 2016-04-14 10460      6.74          6.74           \n",
       "4 1503960366 2016-04-15  9762      6.28          6.28           \n",
       "5 1503960366 2016-04-16 12669      8.16          8.16           \n",
       "6 1503960366 2016-04-17  9705      6.48          6.48           \n",
       "  LoggedActivitiesDistance VeryActiveDistance ModeratelyActiveDistance\n",
       "1 0                        1.88               0.55                    \n",
       "2 0                        1.57               0.69                    \n",
       "3 0                        2.44               0.40                    \n",
       "4 0                        2.14               1.26                    \n",
       "5 0                        2.71               0.41                    \n",
       "6 0                        3.19               0.78                    \n",
       "  LightActiveDistance SedentaryActiveDistance VeryActiveMinutes\n",
       "1 6.06                0                       25               \n",
       "2 4.71                0                       21               \n",
       "3 3.91                0                       30               \n",
       "4 2.83                0                       29               \n",
       "5 5.04                0                       36               \n",
       "6 2.51                0                       38               \n",
       "  FairlyActiveMinutes LightlyActiveMinutes SedentaryMinutes Calories\n",
       "1 13                  328                   728             1985    \n",
       "2 19                  217                   776             1797    \n",
       "3 11                  181                  1218             1776    \n",
       "4 34                  209                   726             1745    \n",
       "5 10                  221                   773             1863    \n",
       "6 20                  164                   539             1728    \n",
       "  total_active_hours\n",
       "1 6.100000          \n",
       "2 4.283333          \n",
       "3 3.700000          \n",
       "4 4.533333          \n",
       "5 4.450000          \n",
       "6 3.700000          "
      ]
     },
     "metadata": {},
     "output_type": "display_data"
    }
   ],
   "source": [
    "#Renaming Date columns to date in all data frames\n",
    "daily_activity <- daily_activity %>%\n",
    "  rename(date = ActivityDate)\n",
    "head(daily_activity)\n",
    "daily_sleep <- daily_sleep %>%\n",
    "  rename(date = SleepDay)\n",
    "weight_info <- weight_info %>%\n",
    "  rename(date = Date)"
   ]
  },
  {
   "cell_type": "markdown",
   "id": "ec32fcf3",
   "metadata": {
    "papermill": {
     "duration": 0.015531,
     "end_time": "2023-07-28T10:53:37.679303",
     "exception": false,
     "start_time": "2023-07-28T10:53:37.663772",
     "status": "completed"
    },
    "tags": []
   },
   "source": [
    "### Removing the column fat\n",
    "The only table that has missing data is the weight_log dataframe. I will remove the column fat since almost all values are missing."
   ]
  },
  {
   "cell_type": "code",
   "execution_count": 10,
   "id": "4896f393",
   "metadata": {
    "execution": {
     "iopub.execute_input": "2023-07-28T10:53:37.714805Z",
     "iopub.status.busy": "2023-07-28T10:53:37.713027Z",
     "iopub.status.idle": "2023-07-28T10:53:37.729501Z",
     "shell.execute_reply": "2023-07-28T10:53:37.727488Z"
    },
    "papermill": {
     "duration": 0.037292,
     "end_time": "2023-07-28T10:53:37.732486",
     "exception": false,
     "start_time": "2023-07-28T10:53:37.695194",
     "status": "completed"
    },
    "tags": []
   },
   "outputs": [],
   "source": [
    "#I just went through the fat column in the weight info data table, and it has only NA values except 1. So deleting this column would be a better option\n",
    "weight_info <- subset(weight_info, select = -Fat)"
   ]
  },
  {
   "cell_type": "markdown",
   "id": "eee39067",
   "metadata": {
    "papermill": {
     "duration": 0.01751,
     "end_time": "2023-07-28T10:53:37.765928",
     "exception": false,
     "start_time": "2023-07-28T10:53:37.748418",
     "status": "completed"
    },
    "tags": []
   },
   "source": [
    "### **Data Cleaning Documentation**\n",
    "### **Change Log**\n",
    "\n",
    "- The R program was selected for its high functionality at cleaning data. Created 4 data frames while importing CSV files into R, with names daily_activity, daily_sleep, weight_info, heartrate_seconds.\n",
    "- Added column total_active_hours to the daily_activity data frame.\n",
    "- Added column time_except_sleeping_in_bed to the daily_sleep data frame.\n",
    "\n",
    "**Changes**\n",
    "- Changed the format of the dates from all the data frames from character to date or date time.\n",
    "\n",
    "**Removed**\n",
    "\n",
    "- Removed duplicated data rows from daily_sleep.\n",
    "- Removed duplicated data rows from minute_sleep.\n",
    "- Removed the column fat from the weight_log data frame.\n",
    "\n",
    "After these steps it's confirmed that the data is integral, clean and ready to analyze."
   ]
  },
  {
   "cell_type": "markdown",
   "id": "5bcff544",
   "metadata": {
    "papermill": {
     "duration": 0.015596,
     "end_time": "2023-07-28T10:53:37.797263",
     "exception": false,
     "start_time": "2023-07-28T10:53:37.781667",
     "status": "completed"
    },
    "tags": []
   },
   "source": [
    "# *Analyze and Share Phases*\n",
    "### **Analyzing and Visualizing Data**\n",
    "\n",
    "### Summary Statistics\n",
    "First we're going to analyze summary statistics to extract some general insights:"
   ]
  },
  {
   "cell_type": "code",
   "execution_count": 11,
   "id": "dbe6b4d9",
   "metadata": {
    "execution": {
     "iopub.execute_input": "2023-07-28T10:53:37.832353Z",
     "iopub.status.busy": "2023-07-28T10:53:37.830604Z",
     "iopub.status.idle": "2023-07-28T10:53:39.418747Z",
     "shell.execute_reply": "2023-07-28T10:53:39.416886Z"
    },
    "papermill": {
     "duration": 1.608536,
     "end_time": "2023-07-28T10:53:39.421393",
     "exception": false,
     "start_time": "2023-07-28T10:53:37.812857",
     "status": "completed"
    },
    "tags": []
   },
   "outputs": [
    {
     "data": {
      "text/plain": [
       "    WeightKg       WeightPounds        BMI       \n",
       " Min.   : 52.60   Min.   :116.0   Min.   :21.45  \n",
       " 1st Qu.: 61.40   1st Qu.:135.4   1st Qu.:23.96  \n",
       " Median : 62.50   Median :137.8   Median :24.39  \n",
       " Mean   : 72.04   Mean   :158.8   Mean   :25.19  \n",
       " 3rd Qu.: 85.05   3rd Qu.:187.5   3rd Qu.:25.56  \n",
       " Max.   :133.50   Max.   :294.3   Max.   :47.54  "
      ]
     },
     "metadata": {},
     "output_type": "display_data"
    },
    {
     "data": {
      "text/plain": [
       "   TotalSteps    total_active_hours TotalDistance    SedentaryMinutes\n",
       " Min.   :    0   Min.   :0.000      Min.   : 0.000   Min.   :   0.0  \n",
       " 1st Qu.: 3790   1st Qu.:2.446      1st Qu.: 2.620   1st Qu.: 729.8  \n",
       " Median : 7406   Median :4.117      Median : 5.245   Median :1057.5  \n",
       " Mean   : 7638   Mean   :3.792      Mean   : 5.490   Mean   : 991.2  \n",
       " 3rd Qu.:10727   3rd Qu.:5.287      3rd Qu.: 7.713   3rd Qu.:1229.5  \n",
       " Max.   :36019   Max.   :9.200      Max.   :28.030   Max.   :1440.0  \n",
       "    Calories   \n",
       " Min.   :   0  \n",
       " 1st Qu.:1828  \n",
       " Median :2134  \n",
       " Mean   :2304  \n",
       " 3rd Qu.:2793  \n",
       " Max.   :4900  "
      ]
     },
     "metadata": {},
     "output_type": "display_data"
    },
    {
     "data": {
      "text/plain": [
       " VeryActiveMinutes FairlyActiveMinutes LightlyActiveMinutes SedentaryMinutes\n",
       " Min.   :  0.00    Min.   :  0.00      Min.   :  0.0        Min.   :   0.0  \n",
       " 1st Qu.:  0.00    1st Qu.:  0.00      1st Qu.:127.0        1st Qu.: 729.8  \n",
       " Median :  4.00    Median :  6.00      Median :199.0        Median :1057.5  \n",
       " Mean   : 21.16    Mean   : 13.56      Mean   :192.8        Mean   : 991.2  \n",
       " 3rd Qu.: 32.00    3rd Qu.: 19.00      3rd Qu.:264.0        3rd Qu.:1229.5  \n",
       " Max.   :210.00    Max.   :143.00      Max.   :518.0        Max.   :1440.0  "
      ]
     },
     "metadata": {},
     "output_type": "display_data"
    },
    {
     "data": {
      "text/plain": [
       " VeryActiveDistance ModeratelyActiveDistance LightActiveDistance\n",
       " Min.   : 0.000     Min.   :0.0000           Min.   : 0.000     \n",
       " 1st Qu.: 0.000     1st Qu.:0.0000           1st Qu.: 1.945     \n",
       " Median : 0.210     Median :0.2400           Median : 3.365     \n",
       " Mean   : 1.503     Mean   :0.5675           Mean   : 3.341     \n",
       " 3rd Qu.: 2.053     3rd Qu.:0.8000           3rd Qu.: 4.782     \n",
       " Max.   :21.920     Max.   :6.4800           Max.   :10.710     \n",
       " SedentaryActiveDistance\n",
       " Min.   :0.000000       \n",
       " 1st Qu.:0.000000       \n",
       " Median :0.000000       \n",
       " Mean   :0.001606       \n",
       " 3rd Qu.:0.000000       \n",
       " Max.   :0.110000       "
      ]
     },
     "metadata": {},
     "output_type": "display_data"
    },
    {
     "data": {
      "text/plain": [
       " TotalMinutesAsleep TotalTimeInBed  time_except_sleeping_in_bed\n",
       " Min.   : 58.0      Min.   : 61.0   Min.   :  0.00             \n",
       " 1st Qu.:361.0      1st Qu.:403.8   1st Qu.: 17.00             \n",
       " Median :432.5      Median :463.0   Median : 25.50             \n",
       " Mean   :419.2      Mean   :458.5   Mean   : 39.31             \n",
       " 3rd Qu.:490.0      3rd Qu.:526.0   3rd Qu.: 40.00             \n",
       " Max.   :796.0      Max.   :961.0   Max.   :371.00             "
      ]
     },
     "metadata": {},
     "output_type": "display_data"
    },
    {
     "data": {
      "text/plain": [
       "     Value       \n",
       " Min.   : 36.00  \n",
       " 1st Qu.: 63.00  \n",
       " Median : 73.00  \n",
       " Mean   : 77.33  \n",
       " 3rd Qu.: 88.00  \n",
       " Max.   :203.00  "
      ]
     },
     "metadata": {},
     "output_type": "display_data"
    }
   ],
   "source": [
    "#Creating summary statistics of our 2 data frames\n",
    "\n",
    "#Summary on Weight\n",
    "weight_info %>% \n",
    "  select(WeightKg, WeightPounds, BMI) %>%\n",
    "  summary()\n",
    "\n",
    "#Summary on Activity\n",
    "daily_activity %>% \n",
    "  select(TotalSteps, total_active_hours, TotalDistance, SedentaryMinutes, Calories) %>%\n",
    "  summary()\n",
    "\n",
    "#Summary on Active Mintues\n",
    "daily_activity %>% \n",
    "  select(VeryActiveMinutes, FairlyActiveMinutes, LightlyActiveMinutes, SedentaryMinutes) %>%\n",
    "  summary()\n",
    "\n",
    "#Summary on Active Distances\n",
    "daily_activity %>%\n",
    "  select(VeryActiveDistance, ModeratelyActiveDistance, LightActiveDistance, SedentaryActiveDistance) %>%\n",
    "  summary()\n",
    "\n",
    "#Summary on Sleeping\n",
    "daily_sleep %>% \n",
    "  select(TotalMinutesAsleep, TotalTimeInBed, time_except_sleeping_in_bed) %>%\n",
    "  summary()\n",
    "\n",
    "#Summary on Heart rate\n",
    "heartrate_seconds %>%\n",
    "  select(Value) %>%\n",
    "  summary()\n"
   ]
  },
  {
   "cell_type": "markdown",
   "id": "d8aa71df",
   "metadata": {
    "papermill": {
     "duration": 0.021139,
     "end_time": "2023-07-28T10:53:39.459581",
     "exception": false,
     "start_time": "2023-07-28T10:53:39.438442",
     "status": "completed"
    },
    "tags": []
   },
   "source": [
    "1. The Average BMI in our weight_info data frame stands out to be 25.2 which is slightly above the Healthy Weight range.\n",
    "2. The Average Total Steps is 7638, which is lesser than 10000 recommended steps for healthy adults.\n",
    "3. Average Total Active Hours is 3.8.\n",
    "4. Average Total Distance per day is around 5.5 kms, quite less than 8 kms which is the recommended number.\n",
    "5. Average calories burnt per day is 2300, which falls within the healthy calories burning amount.\n",
    "6. Average Total Minutes asleep is 420, slightly less than average of 480 minutes.\n",
    "7. Average heartbeats per second is 77, which falls within the normal heart rate for adults."
   ]
  },
  {
   "cell_type": "markdown",
   "id": "0da1f4ed",
   "metadata": {
    "papermill": {
     "duration": 0.022838,
     "end_time": "2023-07-28T10:53:39.501660",
     "exception": false,
     "start_time": "2023-07-28T10:53:39.478822",
     "status": "completed"
    },
    "tags": []
   },
   "source": [
    "# Analyzing the Distribution of the data\n",
    "We are going to create histograms and scatter plots, to visualize different variables in our data frame:"
   ]
  },
  {
   "cell_type": "markdown",
   "id": "0539fc95",
   "metadata": {
    "papermill": {
     "duration": 0.017083,
     "end_time": "2023-07-28T10:53:39.542260",
     "exception": false,
     "start_time": "2023-07-28T10:53:39.525177",
     "status": "completed"
    },
    "tags": []
   },
   "source": [
    "# Histograms\n",
    "## Total Steps\n",
    "We are gonna plot histogram for the total steps, presenting how many people walks how many steps."
   ]
  },
  {
   "cell_type": "code",
   "execution_count": 12,
   "id": "ed41ebbc",
   "metadata": {
    "execution": {
     "iopub.execute_input": "2023-07-28T10:53:39.581353Z",
     "iopub.status.busy": "2023-07-28T10:53:39.579662Z",
     "iopub.status.idle": "2023-07-28T10:53:40.205958Z",
     "shell.execute_reply": "2023-07-28T10:53:40.204025Z"
    },
    "papermill": {
     "duration": 0.650959,
     "end_time": "2023-07-28T10:53:40.209899",
     "exception": false,
     "start_time": "2023-07-28T10:53:39.558940",
     "status": "completed"
    },
    "tags": []
   },
   "outputs": [
    {
     "name": "stderr",
     "output_type": "stream",
     "text": [
      "\u001b[1m\u001b[22m`stat_bin()` using `bins = 30`. Pick better value with `binwidth`.\n"
     ]
    },
    {
     "data": {
      "image/png": "[encoded data removed]"
     },
     "metadata": {
      "image/png": {
       "height": 420,
       "width": 420
      }
     },
     "output_type": "display_data"
    }
   ],
   "source": [
    "#Visualizing data on TotalSteps\n",
    "ggplot(data = daily_activity) + \n",
    "  geom_histogram(mapping = aes(x = TotalSteps)) + \n",
    "  labs(title = 'Daily Total Steps')\n"
   ]
  },
  {
   "cell_type": "markdown",
   "id": "e397ed43",
   "metadata": {
    "papermill": {
     "duration": 0.0169,
     "end_time": "2023-07-28T10:53:40.247989",
     "exception": false,
     "start_time": "2023-07-28T10:53:40.231089",
     "status": "completed"
    },
    "tags": []
   },
   "source": [
    "The most frequent number of steps are taken between 5000 to 10000 steps. We can see this by looking at the histogram's count and Total Steps variables."
   ]
  },
  {
   "cell_type": "markdown",
   "id": "e003b95b",
   "metadata": {
    "papermill": {
     "duration": 0.018274,
     "end_time": "2023-07-28T10:53:40.283274",
     "exception": false,
     "start_time": "2023-07-28T10:53:40.265000",
     "status": "completed"
    },
    "tags": []
   },
   "source": [
    "## Calories Burnt\n",
    "We are going to plot a histogram, representing how many Calories are burnt per day by how many users."
   ]
  },
  {
   "cell_type": "code",
   "execution_count": 13,
   "id": "1e7e2dda",
   "metadata": {
    "execution": {
     "iopub.execute_input": "2023-07-28T10:53:40.321674Z",
     "iopub.status.busy": "2023-07-28T10:53:40.320014Z",
     "iopub.status.idle": "2023-07-28T10:53:40.662913Z",
     "shell.execute_reply": "2023-07-28T10:53:40.659567Z"
    },
    "papermill": {
     "duration": 0.365833,
     "end_time": "2023-07-28T10:53:40.666314",
     "exception": false,
     "start_time": "2023-07-28T10:53:40.300481",
     "status": "completed"
    },
    "tags": []
   },
   "outputs": [
    {
     "name": "stderr",
     "output_type": "stream",
     "text": [
      "\u001b[1m\u001b[22m`stat_bin()` using `bins = 30`. Pick better value with `binwidth`.\n"
     ]
    },
    {
     "data": {
      "image/png": "[encoded data removed]"
     },
     "metadata": {
      "image/png": {
       "height": 420,
       "width": 420
      }
     },
     "output_type": "display_data"
    }
   ],
   "source": [
    "#Visualizing data on Calories\n",
    "ggplot(data = daily_activity) + \n",
    "  geom_histogram(mapping = aes(x = Calories)) + \n",
    "  labs(title = 'Daily Total Calories Burnt')"
   ]
  },
  {
   "cell_type": "markdown",
   "id": "6dbc89ca",
   "metadata": {
    "papermill": {
     "duration": 0.017453,
     "end_time": "2023-07-28T10:53:40.701378",
     "exception": false,
     "start_time": "2023-07-28T10:53:40.683925",
     "status": "completed"
    },
    "tags": []
   },
   "source": [
    "The most frequent calories burnt by users lie between the range 1500-3000."
   ]
  },
  {
   "cell_type": "markdown",
   "id": "f87f4f89",
   "metadata": {
    "papermill": {
     "duration": 0.017486,
     "end_time": "2023-07-28T10:53:40.736454",
     "exception": false,
     "start_time": "2023-07-28T10:53:40.718968",
     "status": "completed"
    },
    "tags": []
   },
   "source": [
    "## Total Active Hours\n",
    "We are going to plot a histogram, representing the Total Active hours of users."
   ]
  },
  {
   "cell_type": "code",
   "execution_count": 14,
   "id": "a603054c",
   "metadata": {
    "execution": {
     "iopub.execute_input": "2023-07-28T10:53:40.775414Z",
     "iopub.status.busy": "2023-07-28T10:53:40.773783Z",
     "iopub.status.idle": "2023-07-28T10:53:41.047536Z",
     "shell.execute_reply": "2023-07-28T10:53:41.044333Z"
    },
    "papermill": {
     "duration": 0.297261,
     "end_time": "2023-07-28T10:53:41.051214",
     "exception": false,
     "start_time": "2023-07-28T10:53:40.753953",
     "status": "completed"
    },
    "tags": []
   },
   "outputs": [
    {
     "name": "stderr",
     "output_type": "stream",
     "text": [
      "\u001b[1m\u001b[22m`stat_bin()` using `bins = 30`. Pick better value with `binwidth`.\n"
     ]
    },
    {
     "data": {
      "image/png": "[encoded data removed]"
     },
     "metadata": {
      "image/png": {
       "height": 420,
       "width": 420
      }
     },
     "output_type": "display_data"
    }
   ],
   "source": [
    "#Visualizing data on total_hours_active\n",
    "ggplot(data = daily_activity) + \n",
    "  geom_histogram(mapping = aes(x = total_active_hours)) + \n",
    "  labs(title = 'Daily Active Hours')"
   ]
  },
  {
   "cell_type": "markdown",
   "id": "377fb015",
   "metadata": {
    "papermill": {
     "duration": 0.01834,
     "end_time": "2023-07-28T10:53:41.087927",
     "exception": false,
     "start_time": "2023-07-28T10:53:41.069587",
     "status": "completed"
    },
    "tags": []
   },
   "source": [
    "# ScatterPlots\n",
    "## TotalSteps v/s Calories Burnt\n",
    "We are going to plot a scatterplot, between the variables TotalSteps and Calories Burnt"
   ]
  },
  {
   "cell_type": "code",
   "execution_count": 15,
   "id": "54537129",
   "metadata": {
    "execution": {
     "iopub.execute_input": "2023-07-28T10:53:41.129978Z",
     "iopub.status.busy": "2023-07-28T10:53:41.128178Z",
     "iopub.status.idle": "2023-07-28T10:53:42.488244Z",
     "shell.execute_reply": "2023-07-28T10:53:42.486029Z"
    },
    "papermill": {
     "duration": 1.385412,
     "end_time": "2023-07-28T10:53:42.492935",
     "exception": false,
     "start_time": "2023-07-28T10:53:41.107523",
     "status": "completed"
    },
    "tags": []
   },
   "outputs": [
    {
     "name": "stderr",
     "output_type": "stream",
     "text": [
      "\u001b[1m\u001b[22m`geom_smooth()` using method = 'loess' and formula = 'y ~ x'\n"
     ]
    },
    {
     "data": {
      "image/png": "[encoded data removed]"
     },
     "metadata": {
      "image/png": {
       "height": 420,
       "width": 420
      }
     },
     "output_type": "display_data"
    }
   ],
   "source": [
    "#Visualizing data on TotalSteps v/s Calories Burnt\n",
    "ggplot(data = daily_activity) + \n",
    "  geom_point(mapping = aes(x = TotalSteps, y = Calories)) +\n",
    "  geom_smooth(mapping = aes(x = TotalSteps, y = Calories)) + \n",
    "  labs(title = 'TotalSteps v/s Calories Burnt')"
   ]
  },
  {
   "cell_type": "markdown",
   "id": "cb542ec2",
   "metadata": {
    "papermill": {
     "duration": 0.021523,
     "end_time": "2023-07-28T10:53:42.536798",
     "exception": false,
     "start_time": "2023-07-28T10:53:42.515275",
     "status": "completed"
    },
    "tags": []
   },
   "source": [
    "As expected, more the Total Steps, higher the Calories are burnt; as showed in our ScatterPlot. I've also added a smooth line, to show the regression between the 2 variables."
   ]
  },
  {
   "cell_type": "markdown",
   "id": "33c0ab2e",
   "metadata": {
    "papermill": {
     "duration": 0.060309,
     "end_time": "2023-07-28T10:53:42.618168",
     "exception": false,
     "start_time": "2023-07-28T10:53:42.557859",
     "status": "completed"
    },
    "tags": []
   },
   "source": [
    "## Total Minutes Asleep v/s Total Time in Bed\n",
    "Represents how much time users are actually sleeping, versus how much total time they spend in Bed."
   ]
  },
  {
   "cell_type": "code",
   "execution_count": 16,
   "id": "9acc5f83",
   "metadata": {
    "execution": {
     "iopub.execute_input": "2023-07-28T10:53:42.663938Z",
     "iopub.status.busy": "2023-07-28T10:53:42.662225Z",
     "iopub.status.idle": "2023-07-28T10:53:43.077933Z",
     "shell.execute_reply": "2023-07-28T10:53:43.075871Z"
    },
    "papermill": {
     "duration": 0.442665,
     "end_time": "2023-07-28T10:53:43.081611",
     "exception": false,
     "start_time": "2023-07-28T10:53:42.638946",
     "status": "completed"
    },
    "tags": []
   },
   "outputs": [
    {
     "name": "stderr",
     "output_type": "stream",
     "text": [
      "\u001b[1m\u001b[22m`geom_smooth()` using method = 'loess' and formula = 'y ~ x'\n"
     ]
    },
    {
     "data": {
      "image/png": "[encoded data removed]"
     },
     "metadata": {
      "image/png": {
       "height": 420,
       "width": 420
      }
     },
     "output_type": "display_data"
    }
   ],
   "source": [
    "#Visualizing data on Total Minutes Asleep v/s Total Time in Bed\n",
    "ggplot(data = daily_sleep) + \n",
    "  geom_point(mapping = aes(x = TotalMinutesAsleep, y = TotalTimeInBed)) +\n",
    "  geom_smooth(mapping = aes(x = TotalMinutesAsleep, y = TotalTimeInBed)) + \n",
    "  labs(title = 'Total Minutes Asleep v/s Total Time in Bed')"
   ]
  },
  {
   "cell_type": "markdown",
   "id": "82bbc585",
   "metadata": {
    "papermill": {
     "duration": 0.022957,
     "end_time": "2023-07-28T10:53:43.127831",
     "exception": false,
     "start_time": "2023-07-28T10:53:43.104874",
     "status": "completed"
    },
    "tags": []
   },
   "source": [
    "# *Act Phase*\n",
    "\n",
    "### **Conclusions**\n",
    "- Regular physical activity and walking are very important for overall calorie/energy expenditure.\n",
    "- There are recording issues with weight data, so many users dont enter their data for the same. \n",
    "- Calories Burnt data provided includes issues; like many counts of users had data of Burning 0 calories; which is almost impossible.\n",
    "- Light activities primarily involve walking, while moderate and vigorous activities mainly involve lifting weights and strength training.\n",
    "- Most users need to do more physical activity to be healthy and a few healthy users are exceeding their exercise time.\n",
    "- Average sleep time seems right, but some users spend too much time in bed and sleeping.\n",
    "- The intensity of the activities influences step count and calorie expenditure.\n",
    "- Most users are sleep deprived and don’t have a good sleep hygiene. \n",
    "- Users have different sleep schedules during weekdays compared to weekends.\n",
    "- Sleeping more makes people more energized and motivated to do more physical activities during the day.\n",
    "\n",
    "### **Recommendations**\n",
    "\n",
    "1. Bellabeat should include a feature of goals, that is; if users complete a specific goal, like walking 10,000 steps per day, they will get some discounts on BellaBeat's products.\n",
    "\n",
    "2. Products like Tracker should have a function of beeping or a sound, in order to remind the users of their daily activities and excercise, if they are lacking or exceeding. \n",
    "\n",
    "3. Collaboration with Health Companies and influecers/experts can help grow BellaBeat's reputation among youth and even adults, by using various advertisements.\n",
    "   \n",
    "   \n",
    "### Further Exploration:\n",
    "\n",
    "- Obtain data from many more users and for a longer time frame like at least one year for a more comprehensive, accurate analysis and to answer the question: What are some monthly trends in Bellabeat smart device usage?\n",
    "- Obtain data for the Spring product to answer the question: What are some trends in Spring usage and hydration patterns?\n",
    "- Track the behavior change patterns of Bellabeat users over an extended period to identify sustained engagement, behavior modifications, and long-term impacts of using Bellabeat products on users' health and well-being.\n",
    "- Conduct user surveys and feedback analysis to understand their experiences and satisfaction with Bellabeat products and the app.\n"
   ]
  }
 ],
 "metadata": {
  "kernelspec": {
   "display_name": "R",
   "language": "R",
   "name": "ir"
  },
  "language_info": {
   "codemirror_mode": "r",
   "file_extension": ".r",
   "mimetype": "text/x-r-source",
   "name": "R",
   "pygments_lexer": "r",
   "version": "4.0.5"
  },
  "papermill": {
   "default_parameters": {},
   "duration": 49.41398,
   "end_time": "2023-07-28T10:53:43.374588",
   "environment_variables": {},
   "exception": null,
   "input_path": "__notebook__.ipynb",
   "output_path": "__notebook__.ipynb",
   "parameters": {},
   "start_time": "2023-07-28T10:52:53.960608",
   "version": "2.4.0"
  }
 },
 "nbformat": 4,
 "nbformat_minor": 5
}
